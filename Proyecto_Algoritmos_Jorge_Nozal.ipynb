{
  "cells": [
    {
      "cell_type": "markdown",
      "metadata": {
        "id": "hVbXYX-RfPWh"
      },
      "source": [
        "# Algoritmos de optimización - Seminario<br>\n",
        "Nombre y Apellidos: Jorge Nozal Martin <br>\n",
        "Url: https://github.com/.../03MAIR---Algoritmos-de-Optimizacion---2019/tree/master/SEMINARIO<br>\n",
        "\n",
        " \n",
        "Problema:\n",
        "> 1. Sesiones de doblaje <br>\n",
        "\n",
        "**Descripción del problema:**\n",
        "\n",
        "Se precisa coordinar el doblaje de una película. Los actores del doblaje deben coincidir en las tomas en las que sus personajes aparecen juntos en las diferentes tomas. Los actores de doblaje cobran todos la misma cantidad por cada día que deben desplazarse hasta el estudio de grabación independientemente del número de tomas que se graben. No es posible grabar más de 6 tomas por día. \n",
        "\n",
        "El objetivo es planificar las sesiones por día de manera que el gasto por los servicios de los actores de doblaje sea el menor posible. Los datos son:\n",
        "\n",
        "Número de actores: 10\n",
        "\n",
        "Número de tomas : 30\n",
        "\n",
        "Actores/Tomas : https://bit.ly/36D8IuK\n",
        "\n",
        "\n",
        "(*) La respuesta es obligatoria\n",
        "\n",
        "\n",
        "\n",
        "\n",
        "\n",
        "                                        "
      ]
    },
    {
      "cell_type": "markdown",
      "metadata": {
        "id": "3_-exlrTgLd-"
      },
      "source": [
        "**1.(*)¿Cuantas posibilidades hay sin tener en cuenta las restricciones?<br>**\n"
      ]
    },
    {
      "cell_type": "code",
      "execution_count": 15,
      "metadata": {},
      "outputs": [
        {
          "name": "stdout",
          "output_type": "stream",
          "text": [
            "Defaulting to user installation because normal site-packages is not writeable\n",
            "Collecting sympy\n",
            "  Downloading sympy-1.14.0-py3-none-any.whl.metadata (12 kB)\n",
            "Collecting mpmath<1.4,>=1.1.0 (from sympy)\n",
            "  Downloading mpmath-1.3.0-py3-none-any.whl.metadata (8.6 kB)\n",
            "Downloading sympy-1.14.0-py3-none-any.whl (6.3 MB)\n",
            "   ---------------------------------------- 0.0/6.3 MB ? eta -:--:--\n",
            "   ---------------------------------------- 0.0/6.3 MB ? eta -:--:--\n",
            "   - -------------------------------------- 0.3/6.3 MB ? eta -:--:--\n",
            "   --- ------------------------------------ 0.5/6.3 MB 1.2 MB/s eta 0:00:05\n",
            "   ---- ----------------------------------- 0.8/6.3 MB 1.2 MB/s eta 0:00:05\n",
            "   ------ --------------------------------- 1.0/6.3 MB 1.2 MB/s eta 0:00:05\n",
            "   -------- ------------------------------- 1.3/6.3 MB 1.2 MB/s eta 0:00:05\n",
            "   --------- ------------------------------ 1.6/6.3 MB 1.2 MB/s eta 0:00:04\n",
            "   ----------- ---------------------------- 1.8/6.3 MB 1.2 MB/s eta 0:00:04\n",
            "   ------------- -------------------------- 2.1/6.3 MB 1.2 MB/s eta 0:00:04\n",
            "   -------------- ------------------------- 2.4/6.3 MB 1.2 MB/s eta 0:00:04\n",
            "   ---------------- ----------------------- 2.6/6.3 MB 1.2 MB/s eta 0:00:04\n",
            "   ------------------ --------------------- 2.9/6.3 MB 1.2 MB/s eta 0:00:03\n",
            "   ------------------- -------------------- 3.1/6.3 MB 1.2 MB/s eta 0:00:03\n",
            "   --------------------- ------------------ 3.4/6.3 MB 1.2 MB/s eta 0:00:03\n",
            "   ----------------------- ---------------- 3.7/6.3 MB 1.2 MB/s eta 0:00:03\n",
            "   ------------------------ --------------- 3.9/6.3 MB 1.2 MB/s eta 0:00:03\n",
            "   -------------------------- ------------- 4.2/6.3 MB 1.2 MB/s eta 0:00:02\n",
            "   ---------------------------- ----------- 4.5/6.3 MB 1.2 MB/s eta 0:00:02\n",
            "   ----------------------------- ---------- 4.7/6.3 MB 1.2 MB/s eta 0:00:02\n",
            "   ------------------------------- -------- 5.0/6.3 MB 1.2 MB/s eta 0:00:02\n",
            "   --------------------------------- ------ 5.2/6.3 MB 1.2 MB/s eta 0:00:01\n",
            "   ---------------------------------- ----- 5.5/6.3 MB 1.2 MB/s eta 0:00:01\n",
            "   ------------------------------------ --- 5.8/6.3 MB 1.2 MB/s eta 0:00:01\n",
            "   -------------------------------------- - 6.0/6.3 MB 1.2 MB/s eta 0:00:01\n",
            "   ---------------------------------------  6.3/6.3 MB 1.2 MB/s eta 0:00:01\n",
            "   ---------------------------------------- 6.3/6.3 MB 1.2 MB/s eta 0:00:00\n",
            "Downloading mpmath-1.3.0-py3-none-any.whl (536 kB)\n",
            "   ---------------------------------------- 0.0/536.2 kB ? eta -:--:--\n",
            "   ---------------------------------------- 0.0/536.2 kB ? eta -:--:--\n",
            "   ------------------- -------------------- 262.1/536.2 kB ? eta -:--:--\n",
            "   ---------------------------------------- 536.2/536.2 kB 1.1 MB/s eta 0:00:00\n",
            "Installing collected packages: mpmath, sympy\n",
            "\n",
            "   ---------------------------------------- 0/2 [mpmath]\n",
            "   ---------------------------------------- 0/2 [mpmath]\n",
            "   ---------------------------------------- 0/2 [mpmath]\n",
            "   ---------------------------------------- 0/2 [mpmath]\n",
            "   ---------------------------------------- 0/2 [mpmath]\n",
            "   ---------------------------------------- 0/2 [mpmath]\n",
            "   ---------------------------------------- 0/2 [mpmath]\n",
            "   ---------------------------------------- 0/2 [mpmath]\n",
            "   ---------------------------------------- 0/2 [mpmath]\n",
            "   ---------------------------------------- 0/2 [mpmath]\n",
            "   ---------------------------------------- 0/2 [mpmath]\n",
            "   ---------------------------------------- 0/2 [mpmath]\n",
            "   ---------------------------------------- 0/2 [mpmath]\n",
            "   -------------------- ------------------- 1/2 [sympy]\n",
            "   -------------------- ------------------- 1/2 [sympy]\n",
            "   -------------------- ------------------- 1/2 [sympy]\n",
            "   -------------------- ------------------- 1/2 [sympy]\n",
            "   -------------------- ------------------- 1/2 [sympy]\n",
            "   -------------------- ------------------- 1/2 [sympy]\n",
            "   -------------------- ------------------- 1/2 [sympy]\n",
            "   -------------------- ------------------- 1/2 [sympy]\n",
            "   -------------------- ------------------- 1/2 [sympy]\n",
            "   -------------------- ------------------- 1/2 [sympy]\n",
            "   -------------------- ------------------- 1/2 [sympy]\n",
            "   -------------------- ------------------- 1/2 [sympy]\n",
            "   -------------------- ------------------- 1/2 [sympy]\n",
            "   -------------------- ------------------- 1/2 [sympy]\n",
            "   -------------------- ------------------- 1/2 [sympy]\n",
            "   -------------------- ------------------- 1/2 [sympy]\n",
            "   -------------------- ------------------- 1/2 [sympy]\n",
            "   -------------------- ------------------- 1/2 [sympy]\n",
            "   -------------------- ------------------- 1/2 [sympy]\n",
            "   -------------------- ------------------- 1/2 [sympy]\n",
            "   -------------------- ------------------- 1/2 [sympy]\n",
            "   -------------------- ------------------- 1/2 [sympy]\n",
            "   -------------------- ------------------- 1/2 [sympy]\n",
            "   -------------------- ------------------- 1/2 [sympy]\n",
            "   -------------------- ------------------- 1/2 [sympy]\n",
            "   -------------------- ------------------- 1/2 [sympy]\n",
            "   -------------------- ------------------- 1/2 [sympy]\n",
            "   -------------------- ------------------- 1/2 [sympy]\n",
            "   -------------------- ------------------- 1/2 [sympy]\n",
            "   -------------------- ------------------- 1/2 [sympy]\n",
            "   -------------------- ------------------- 1/2 [sympy]\n",
            "   -------------------- ------------------- 1/2 [sympy]\n",
            "   -------------------- ------------------- 1/2 [sympy]\n",
            "   -------------------- ------------------- 1/2 [sympy]\n",
            "   -------------------- ------------------- 1/2 [sympy]\n",
            "   -------------------- ------------------- 1/2 [sympy]\n",
            "   -------------------- ------------------- 1/2 [sympy]\n",
            "   -------------------- ------------------- 1/2 [sympy]\n",
            "   -------------------- ------------------- 1/2 [sympy]\n",
            "   -------------------- ------------------- 1/2 [sympy]\n",
            "   -------------------- ------------------- 1/2 [sympy]\n",
            "   -------------------- ------------------- 1/2 [sympy]\n",
            "   -------------------- ------------------- 1/2 [sympy]\n",
            "   -------------------- ------------------- 1/2 [sympy]\n",
            "   -------------------- ------------------- 1/2 [sympy]\n",
            "   -------------------- ------------------- 1/2 [sympy]\n",
            "   -------------------- ------------------- 1/2 [sympy]\n",
            "   -------------------- ------------------- 1/2 [sympy]\n",
            "   -------------------- ------------------- 1/2 [sympy]\n",
            "   -------------------- ------------------- 1/2 [sympy]\n",
            "   -------------------- ------------------- 1/2 [sympy]\n",
            "   -------------------- ------------------- 1/2 [sympy]\n",
            "   -------------------- ------------------- 1/2 [sympy]\n",
            "   -------------------- ------------------- 1/2 [sympy]\n",
            "   -------------------- ------------------- 1/2 [sympy]\n",
            "   -------------------- ------------------- 1/2 [sympy]\n",
            "   -------------------- ------------------- 1/2 [sympy]\n",
            "   -------------------- ------------------- 1/2 [sympy]\n",
            "   -------------------- ------------------- 1/2 [sympy]\n",
            "   -------------------- ------------------- 1/2 [sympy]\n",
            "   -------------------- ------------------- 1/2 [sympy]\n",
            "   -------------------- ------------------- 1/2 [sympy]\n",
            "   -------------------- ------------------- 1/2 [sympy]\n",
            "   -------------------- ------------------- 1/2 [sympy]\n",
            "   -------------------- ------------------- 1/2 [sympy]\n",
            "   -------------------- ------------------- 1/2 [sympy]\n",
            "   -------------------- ------------------- 1/2 [sympy]\n",
            "   -------------------- ------------------- 1/2 [sympy]\n",
            "   -------------------- ------------------- 1/2 [sympy]\n",
            "   -------------------- ------------------- 1/2 [sympy]\n",
            "   -------------------- ------------------- 1/2 [sympy]\n",
            "   -------------------- ------------------- 1/2 [sympy]\n",
            "   -------------------- ------------------- 1/2 [sympy]\n",
            "   -------------------- ------------------- 1/2 [sympy]\n",
            "   -------------------- ------------------- 1/2 [sympy]\n",
            "   -------------------- ------------------- 1/2 [sympy]\n",
            "   -------------------- ------------------- 1/2 [sympy]\n",
            "   -------------------- ------------------- 1/2 [sympy]\n",
            "   -------------------- ------------------- 1/2 [sympy]\n",
            "   -------------------- ------------------- 1/2 [sympy]\n",
            "   -------------------- ------------------- 1/2 [sympy]\n",
            "   -------------------- ------------------- 1/2 [sympy]\n",
            "   -------------------- ------------------- 1/2 [sympy]\n",
            "   -------------------- ------------------- 1/2 [sympy]\n",
            "   -------------------- ------------------- 1/2 [sympy]\n",
            "   -------------------- ------------------- 1/2 [sympy]\n",
            "   -------------------- ------------------- 1/2 [sympy]\n",
            "   -------------------- ------------------- 1/2 [sympy]\n",
            "   -------------------- ------------------- 1/2 [sympy]\n",
            "   -------------------- ------------------- 1/2 [sympy]\n",
            "   -------------------- ------------------- 1/2 [sympy]\n",
            "   -------------------- ------------------- 1/2 [sympy]\n",
            "   -------------------- ------------------- 1/2 [sympy]\n",
            "   -------------------- ------------------- 1/2 [sympy]\n",
            "   -------------------- ------------------- 1/2 [sympy]\n",
            "   -------------------- ------------------- 1/2 [sympy]\n",
            "   -------------------- ------------------- 1/2 [sympy]\n",
            "   -------------------- ------------------- 1/2 [sympy]\n",
            "   -------------------- ------------------- 1/2 [sympy]\n",
            "   -------------------- ------------------- 1/2 [sympy]\n",
            "   -------------------- ------------------- 1/2 [sympy]\n",
            "   -------------------- ------------------- 1/2 [sympy]\n",
            "   -------------------- ------------------- 1/2 [sympy]\n",
            "   -------------------- ------------------- 1/2 [sympy]\n",
            "   -------------------- ------------------- 1/2 [sympy]\n",
            "   -------------------- ------------------- 1/2 [sympy]\n",
            "   -------------------- ------------------- 1/2 [sympy]\n",
            "   -------------------- ------------------- 1/2 [sympy]\n",
            "   -------------------- ------------------- 1/2 [sympy]\n",
            "   -------------------- ------------------- 1/2 [sympy]\n",
            "   -------------------- ------------------- 1/2 [sympy]\n",
            "   -------------------- ------------------- 1/2 [sympy]\n",
            "   -------------------- ------------------- 1/2 [sympy]\n",
            "   -------------------- ------------------- 1/2 [sympy]\n",
            "   -------------------- ------------------- 1/2 [sympy]\n",
            "   -------------------- ------------------- 1/2 [sympy]\n",
            "   -------------------- ------------------- 1/2 [sympy]\n",
            "   -------------------- ------------------- 1/2 [sympy]\n",
            "   -------------------- ------------------- 1/2 [sympy]\n",
            "   -------------------- ------------------- 1/2 [sympy]\n",
            "   -------------------- ------------------- 1/2 [sympy]\n",
            "   -------------------- ------------------- 1/2 [sympy]\n",
            "   -------------------- ------------------- 1/2 [sympy]\n",
            "   -------------------- ------------------- 1/2 [sympy]\n",
            "   -------------------- ------------------- 1/2 [sympy]\n",
            "   -------------------- ------------------- 1/2 [sympy]\n",
            "   -------------------- ------------------- 1/2 [sympy]\n",
            "   -------------------- ------------------- 1/2 [sympy]\n",
            "   -------------------- ------------------- 1/2 [sympy]\n",
            "   -------------------- ------------------- 1/2 [sympy]\n",
            "   -------------------- ------------------- 1/2 [sympy]\n",
            "   -------------------- ------------------- 1/2 [sympy]\n",
            "   -------------------- ------------------- 1/2 [sympy]\n",
            "   -------------------- ------------------- 1/2 [sympy]\n",
            "   -------------------- ------------------- 1/2 [sympy]\n",
            "   -------------------- ------------------- 1/2 [sympy]\n",
            "   -------------------- ------------------- 1/2 [sympy]\n",
            "   -------------------- ------------------- 1/2 [sympy]\n",
            "   -------------------- ------------------- 1/2 [sympy]\n",
            "   -------------------- ------------------- 1/2 [sympy]\n",
            "   -------------------- ------------------- 1/2 [sympy]\n",
            "   -------------------- ------------------- 1/2 [sympy]\n",
            "   -------------------- ------------------- 1/2 [sympy]\n",
            "   -------------------- ------------------- 1/2 [sympy]\n",
            "   -------------------- ------------------- 1/2 [sympy]\n",
            "   -------------------- ------------------- 1/2 [sympy]\n",
            "   -------------------- ------------------- 1/2 [sympy]\n",
            "   -------------------- ------------------- 1/2 [sympy]\n",
            "   -------------------- ------------------- 1/2 [sympy]\n",
            "   -------------------- ------------------- 1/2 [sympy]\n",
            "   -------------------- ------------------- 1/2 [sympy]\n",
            "   -------------------- ------------------- 1/2 [sympy]\n",
            "   -------------------- ------------------- 1/2 [sympy]\n",
            "   -------------------- ------------------- 1/2 [sympy]\n",
            "   -------------------- ------------------- 1/2 [sympy]\n",
            "   -------------------- ------------------- 1/2 [sympy]\n",
            "   -------------------- ------------------- 1/2 [sympy]\n",
            "   -------------------- ------------------- 1/2 [sympy]\n",
            "   -------------------- ------------------- 1/2 [sympy]\n",
            "   -------------------- ------------------- 1/2 [sympy]\n",
            "   -------------------- ------------------- 1/2 [sympy]\n",
            "   -------------------- ------------------- 1/2 [sympy]\n",
            "   -------------------- ------------------- 1/2 [sympy]\n",
            "   -------------------- ------------------- 1/2 [sympy]\n",
            "   -------------------- ------------------- 1/2 [sympy]\n",
            "   -------------------- ------------------- 1/2 [sympy]\n",
            "   -------------------- ------------------- 1/2 [sympy]\n",
            "   -------------------- ------------------- 1/2 [sympy]\n",
            "   -------------------- ------------------- 1/2 [sympy]\n",
            "   -------------------- ------------------- 1/2 [sympy]\n",
            "   -------------------- ------------------- 1/2 [sympy]\n",
            "   -------------------- ------------------- 1/2 [sympy]\n",
            "   -------------------- ------------------- 1/2 [sympy]\n",
            "   -------------------- ------------------- 1/2 [sympy]\n",
            "   -------------------- ------------------- 1/2 [sympy]\n",
            "   -------------------- ------------------- 1/2 [sympy]\n",
            "   -------------------- ------------------- 1/2 [sympy]\n",
            "   -------------------- ------------------- 1/2 [sympy]\n",
            "   -------------------- ------------------- 1/2 [sympy]\n",
            "   -------------------- ------------------- 1/2 [sympy]\n",
            "   -------------------- ------------------- 1/2 [sympy]\n",
            "   -------------------- ------------------- 1/2 [sympy]\n",
            "   -------------------- ------------------- 1/2 [sympy]\n",
            "   -------------------- ------------------- 1/2 [sympy]\n",
            "   -------------------- ------------------- 1/2 [sympy]\n",
            "   -------------------- ------------------- 1/2 [sympy]\n",
            "   -------------------- ------------------- 1/2 [sympy]\n",
            "   -------------------- ------------------- 1/2 [sympy]\n",
            "   -------------------- ------------------- 1/2 [sympy]\n",
            "   -------------------- ------------------- 1/2 [sympy]\n",
            "   -------------------- ------------------- 1/2 [sympy]\n",
            "   -------------------- ------------------- 1/2 [sympy]\n",
            "   -------------------- ------------------- 1/2 [sympy]\n",
            "   -------------------- ------------------- 1/2 [sympy]\n",
            "   -------------------- ------------------- 1/2 [sympy]\n",
            "   -------------------- ------------------- 1/2 [sympy]\n",
            "   -------------------- ------------------- 1/2 [sympy]\n",
            "   -------------------- ------------------- 1/2 [sympy]\n",
            "   -------------------- ------------------- 1/2 [sympy]\n",
            "   -------------------- ------------------- 1/2 [sympy]\n",
            "   -------------------- ------------------- 1/2 [sympy]\n",
            "   -------------------- ------------------- 1/2 [sympy]\n",
            "   -------------------- ------------------- 1/2 [sympy]\n",
            "   -------------------- ------------------- 1/2 [sympy]\n",
            "   -------------------- ------------------- 1/2 [sympy]\n",
            "   -------------------- ------------------- 1/2 [sympy]\n",
            "   -------------------- ------------------- 1/2 [sympy]\n",
            "   -------------------- ------------------- 1/2 [sympy]\n",
            "   -------------------- ------------------- 1/2 [sympy]\n",
            "   -------------------- ------------------- 1/2 [sympy]\n",
            "   -------------------- ------------------- 1/2 [sympy]\n",
            "   -------------------- ------------------- 1/2 [sympy]\n",
            "   -------------------- ------------------- 1/2 [sympy]\n",
            "   -------------------- ------------------- 1/2 [sympy]\n",
            "   -------------------- ------------------- 1/2 [sympy]\n",
            "   -------------------- ------------------- 1/2 [sympy]\n",
            "   -------------------- ------------------- 1/2 [sympy]\n",
            "   -------------------- ------------------- 1/2 [sympy]\n",
            "   -------------------- ------------------- 1/2 [sympy]\n",
            "   -------------------- ------------------- 1/2 [sympy]\n",
            "   -------------------- ------------------- 1/2 [sympy]\n",
            "   -------------------- ------------------- 1/2 [sympy]\n",
            "   -------------------- ------------------- 1/2 [sympy]\n",
            "   -------------------- ------------------- 1/2 [sympy]\n",
            "   -------------------- ------------------- 1/2 [sympy]\n",
            "   -------------------- ------------------- 1/2 [sympy]\n",
            "   -------------------- ------------------- 1/2 [sympy]\n",
            "   -------------------- ------------------- 1/2 [sympy]\n",
            "   -------------------- ------------------- 1/2 [sympy]\n",
            "   -------------------- ------------------- 1/2 [sympy]\n",
            "   -------------------- ------------------- 1/2 [sympy]\n",
            "   -------------------- ------------------- 1/2 [sympy]\n",
            "   -------------------- ------------------- 1/2 [sympy]\n",
            "   -------------------- ------------------- 1/2 [sympy]\n",
            "   -------------------- ------------------- 1/2 [sympy]\n",
            "   -------------------- ------------------- 1/2 [sympy]\n",
            "   -------------------- ------------------- 1/2 [sympy]\n",
            "   -------------------- ------------------- 1/2 [sympy]\n",
            "   -------------------- ------------------- 1/2 [sympy]\n",
            "   -------------------- ------------------- 1/2 [sympy]\n",
            "   -------------------- ------------------- 1/2 [sympy]\n",
            "   -------------------- ------------------- 1/2 [sympy]\n",
            "   -------------------- ------------------- 1/2 [sympy]\n",
            "   -------------------- ------------------- 1/2 [sympy]\n",
            "   -------------------- ------------------- 1/2 [sympy]\n",
            "   -------------------- ------------------- 1/2 [sympy]\n",
            "   -------------------- ------------------- 1/2 [sympy]\n",
            "   -------------------- ------------------- 1/2 [sympy]\n",
            "   -------------------- ------------------- 1/2 [sympy]\n",
            "   -------------------- ------------------- 1/2 [sympy]\n",
            "   -------------------- ------------------- 1/2 [sympy]\n",
            "   -------------------- ------------------- 1/2 [sympy]\n",
            "   -------------------- ------------------- 1/2 [sympy]\n",
            "   -------------------- ------------------- 1/2 [sympy]\n",
            "   -------------------- ------------------- 1/2 [sympy]\n",
            "   -------------------- ------------------- 1/2 [sympy]\n",
            "   -------------------- ------------------- 1/2 [sympy]\n",
            "   -------------------- ------------------- 1/2 [sympy]\n",
            "   -------------------- ------------------- 1/2 [sympy]\n",
            "   -------------------- ------------------- 1/2 [sympy]\n",
            "   -------------------- ------------------- 1/2 [sympy]\n",
            "   -------------------- ------------------- 1/2 [sympy]\n",
            "   -------------------- ------------------- 1/2 [sympy]\n",
            "   -------------------- ------------------- 1/2 [sympy]\n",
            "   -------------------- ------------------- 1/2 [sympy]\n",
            "   -------------------- ------------------- 1/2 [sympy]\n",
            "   -------------------- ------------------- 1/2 [sympy]\n",
            "   -------------------- ------------------- 1/2 [sympy]\n",
            "   -------------------- ------------------- 1/2 [sympy]\n",
            "   -------------------- ------------------- 1/2 [sympy]\n",
            "   -------------------- ------------------- 1/2 [sympy]\n",
            "   -------------------- ------------------- 1/2 [sympy]\n",
            "   ---------------------------------------- 2/2 [sympy]\n",
            "\n",
            "Successfully installed mpmath-1.3.0 sympy-1.14.0\n"
          ]
        }
      ],
      "source": [
        "!pip install sympy"
      ]
    },
    {
      "cell_type": "code",
      "execution_count": null,
      "metadata": {},
      "outputs": [
        {
          "name": "stdout",
          "output_type": "stream",
          "text": [
            "Número de particiones sin restricciones (número de Bell): B(30) = 846749014511809332450147\n"
          ]
        }
      ],
      "source": [
        "#Para calcular el número posible de participaciones sin tener en cuanta resticciones de tomas o actores, podemos usar el número de Bell.\n",
        "#Es un número que nos da las formas de dividir un cojunto de n elementos en subconjuntos no vacíos (nuestros días de grabación).\n",
        "\n",
        "from sympy import bell\n",
        "\n",
        "n = 30\n",
        "print(f\"Número de particiones sin restricciones (número de Bell): B({n}) = {bell(n)}\")\n"
      ]
    },
    {
      "cell_type": "markdown",
      "metadata": {},
      "source": [
        "**2.¿Cuantas posibilidades hay teniendo en cuenta todas las restricciones.**"
      ]
    },
    {
      "cell_type": "code",
      "execution_count": null,
      "metadata": {},
      "outputs": [
        {
          "name": "stdout",
          "output_type": "stream",
          "text": [
            "Número de particiones sin repetir orden y con bloques de ≤ 6: 1206\n"
          ]
        }
      ],
      "source": [
        "# Como ahora ya tenemos la rstricción de que no se pueden hacer más de 6 tomas al día\n",
        "# Tenemos que calcular cuántas formas hay de agrupar 30 tomas en grupos de 1 a 6 cada día.\n",
        "\n",
        "#Usamos una función backtracking\n",
        "\n",
        "def contar_particiones(n_tomas, max_tomas_por_dia, actual=[]):\n",
        "    if n_tomas == 0:            #No grabar tomas en un día es posible asi que cuenta 1\n",
        "        return 1\n",
        "    \n",
        "    if n_tomas < 0:             #Si nos pasamos de n_tomas ya no sigue contando participaciones\n",
        "        return 0\n",
        "\n",
        "    total = 0                   # Conteo de las particiones válidas\n",
        "\n",
        "    # Para evitar permutaciones iguales, aseguramos que los bloques estén ordenados de menor a mator \n",
        "    start = actual[-1] if actual else 1\n",
        "\n",
        "    for i in range(start, max_tomas_por_dia + 1):\n",
        "\n",
        "        total += contar_particiones(n_tomas - i, max_tomas_por_dia, actual + [i])\n",
        "        \n",
        "    return total\n",
        "\n",
        "total_particiones = contar_particiones(30, 6)\n",
        "print(f\"Número de particiones sin repetir orden y con bloques de ≤ 6: {total_particiones}\")\n",
        "\n",
        "#Es posible que la pregunta también se refiera a cuando los actores estan disponibles, pero la restricción en el enunciado es la de 6 tomas por día\n"
      ]
    },
    {
      "cell_type": "markdown",
      "metadata": {
        "id": "dzynfVJahHoY"
      },
      "source": [
        "Modelo para el espacio de soluciones<br>\n",
        "**3.(*) ¿Cual es la estructura de datos que mejor se adapta al problema? Argumentalo.(Es posible que hayas elegido una al principio y veas la necesidad de cambiar, arguentalo)**\n"
      ]
    },
    {
      "cell_type": "markdown",
      "metadata": {
        "id": "xFIJrOwKi2Ti"
      },
      "source": [
        "Respuesta"
      ]
    },
    {
      "cell_type": "markdown",
      "metadata": {},
      "source": [
        " Estructura de datos:\n",
        " - tomas: dict[int, set[int]] - Se almacenarán actores por toma\n",
        "    \n",
        "    Un diccionario donde la clave es el número de la toma (int) y el valor es un conjunto o set de los actores que participan en esa toma (evitado así repetidos).\n",
        "\n",
        " - planificación: list[list[int]] - Se almacenarán las tomas por día\n",
        "\n",
        "    Una lista donde cada elemento es otra lista. Cada sub-lista representa un día de grabación y contiene los números de las tomas (int) que se grabarán ese día\n",
        "\n",
        " - asistencia: dict[int, set[int]] - Se almacenarán días por actor\n",
        "\n",
        "    Un diccionario donde la clave es el identificador del actor (int) y el valor es un conjunto (`set`) de los índices de los días (int) en los que ese actor debe asistir al estudio."
      ]
    },
    {
      "cell_type": "code",
      "execution_count": 2,
      "metadata": {
        "id": "iq6Fe32MgpDX"
      },
      "outputs": [
        {
          "name": "stdout",
          "output_type": "stream",
          "text": [
            "        1    2    3    4    5    6    7    8    9   10  Total\n",
            "Toma                                                         \n",
            "1     1.0  1.0  1.0  1.0  1.0  0.0  0.0  0.0  0.0  0.0    5.0\n",
            "2     0.0  0.0  1.0  1.0  1.0  0.0  0.0  0.0  0.0  0.0    3.0\n",
            "3     0.0  1.0  0.0  0.0  1.0  0.0  1.0  0.0  0.0  0.0    3.0\n",
            "4     1.0  1.0  0.0  0.0  0.0  0.0  1.0  1.0  0.0  0.0    4.0\n",
            "5     0.0  1.0  0.0  1.0  0.0  0.0  0.0  1.0  0.0  0.0    3.0\n"
          ]
        }
      ],
      "source": [
        "import pandas as pd\n",
        "\n",
        "# Cargar los datos desde el CSV\n",
        "ruta = r\"./datos_problema_doblaje.csv\"\n",
        "df = pd.read_csv(ruta, header=1) # Usamos header=1 para indicar que la segunda fila es el encabezado, donde aparecen que actores participan\n",
        "\n",
        "# Eliminar la columna 'Unnamed: 11' y las filas que no son tomas reales\n",
        "df = df.drop(columns=['Unnamed: 11'], errors='ignore')\n",
        "df = df[pd.to_numeric(df['Toma'], errors='coerce').notna()]\n",
        "df = df[df['Toma'] != 'TOTAL']\n",
        "\n",
        "# Convertir 'Toma' a entero y establecerla como índice\n",
        "df['Toma'] = df['Toma'].astype(int)\n",
        "df = df.set_index('Toma')\n",
        "\n",
        "print(df.head())"
      ]
    },
    {
      "cell_type": "code",
      "execution_count": 3,
      "metadata": {},
      "outputs": [
        {
          "name": "stdout",
          "output_type": "stream",
          "text": [
            "Toma 1: actores [1, 2, 3, 4, 5]\n",
            "Toma 2: actores [3, 4, 5]\n",
            "Toma 3: actores [2, 5, 7]\n",
            "Toma 4: actores [1, 2, 7, 8]\n",
            "Toma 5: actores [2, 4, 8]\n"
          ]
        }
      ],
      "source": [
        "# Creamos un diccionario para saber qué actores participan en cada toma\n",
        "tomas = {}\n",
        "\n",
        "# Solo consideramos columnas que son números\n",
        "actor_cols = [col for col in df.columns if str(col).isdigit()]\n",
        "    \n",
        "for toma_id, row in df.iterrows():\n",
        "    # Recogemos los id de los actores para la toma\n",
        "    actores_en_toma = {int(col) for col in actor_cols if row[col] == 1.0}\n",
        "    tomas[toma_id] = actores_en_toma\n",
        "\n",
        "# Comprobación de las primeras 5 tomas\n",
        "for i, (toma_id, actores_set) in enumerate(tomas.items()):\n",
        "    if i >= 5: \n",
        "        break\n",
        "    print(f\"Toma {toma_id}: actores {sorted(list(actores_set))}\") "
      ]
    },
    {
      "cell_type": "markdown",
      "metadata": {
        "id": "7Z9U2W7bi-XS"
      },
      "source": [
        "Según el modelo para el espacio de soluciones<br>\n",
        "\n",
        "**4.(*)¿Cual es la función objetivo?**"
      ]
    },
    {
      "cell_type": "markdown",
      "metadata": {},
      "source": [
        "Respuesta"
      ]
    },
    {
      "cell_type": "markdown",
      "metadata": {},
      "source": [
        "La función objetivo en este problema de optimización es minimizar el gasto total por los servicios de los actores de doblaje.\n",
        "\n",
        "Dado que los actores cobran la misma cantidad por cada día que deben desplazarse al estudio de grabación (independientemente del número de tomas que graben ese día), el gasto total está directamente relacionado con el número total de días que cada actor asiste al estudio.\n",
        "\n",
        "def calcular_coste(planificacion, tomas)\n",
        "\n",
        "El coste total es la suma de la cantidad de días que cada actor debe asistir"
      ]
    },
    {
      "cell_type": "code",
      "execution_count": 7,
      "metadata": {},
      "outputs": [],
      "source": [
        "from collections import defaultdict\n",
        "\n",
        "def calcular_coste(planificacion, tomas_data):\n",
        "    asistencia = defaultdict(set)\n",
        "    for dia_idx, dia in enumerate(planificacion):\n",
        "        for toma in dia['tomas']:\n",
        "            for actor in tomas_data[toma]:\n",
        "                asistencia[actor].add(dia_idx + 1)  # +1 para días 1-based \n",
        "    total_coste = sum(len(dias) for dias in asistencia.values())\n",
        "\n",
        "    return total_coste"
      ]
    },
    {
      "cell_type": "markdown",
      "metadata": {},
      "source": [
        "**5.(*)¿Es un problema de maximización o minimización?**"
      ]
    },
    {
      "cell_type": "markdown",
      "metadata": {},
      "source": [
        "Respuesta"
      ]
    },
    {
      "cell_type": "markdown",
      "metadata": {},
      "source": [
        "Es un problema de minimización del coste total (días asistidos por actores).\n",
        "\n",
        "El enunciado del problema indica claramente que el objetivo es \"planificar las sesiones por día de manera que el gasto por los servicios de los actores de doblaje sea el menor posible.\"\n",
        "\n",
        "Dado que el gasto es el coste y queremos que sea lo más bajo posible, estamos buscando la solución que minimice la función objetivo descripta anteriormente\n",
        "\n"
      ]
    },
    {
      "cell_type": "markdown",
      "metadata": {
        "id": "rlnTYgY1j6I2"
      },
      "source": [
        "**6.Diseña un algoritmo para resolver el problema por fuerza bruta**"
      ]
    },
    {
      "cell_type": "markdown",
      "metadata": {
        "id": "70rDgxYXkC8r"
      },
      "source": [
        "Respuesta"
      ]
    },
    {
      "cell_type": "code",
      "execution_count": null,
      "metadata": {
        "id": "CJb5sQ0qkENy"
      },
      "outputs": [
        {
          "name": "stdout",
          "output_type": "stream",
          "text": [
            "Días: 27, Coste: 94\n",
            "Detalle:\n",
            "Día 1: Tomas [23], Actores {1, 3}\n",
            "Día 2: Tomas [24], Actores {3, 6}\n",
            "Día 3: Tomas [11], Actores {1, 2, 3, 5, 8}\n",
            "Día 4: Tomas [17], Actores {1, 3}\n",
            "Día 5: Tomas [14, 16], Actores {1, 3, 4, 6, 10}\n",
            "Día 6: Tomas [29], Actores {1, 5, 6}\n",
            "Día 7: Tomas [3], Actores {2, 5, 7}\n",
            "Día 8: Tomas [27], Actores {4, 5}\n",
            "Día 9: Tomas [26, 21], Actores {1, 3, 5, 6, 8, 9}\n",
            "Día 10: Tomas [15], Actores {1, 2, 7}\n",
            "Día 11: Tomas [6], Actores {1, 2, 4, 5}\n",
            "Día 12: Tomas [8], Actores {1, 2, 6}\n",
            "Día 13: Tomas [1], Actores {1, 2, 3, 4, 5}\n",
            "Día 14: Tomas [9], Actores {1, 2, 4}\n",
            "Día 15: Tomas [10], Actores {1, 2, 6, 9}\n",
            "Día 16: Tomas [18, 25], Actores {1, 2, 3, 4, 6, 10}\n",
            "Día 17: Tomas [4], Actores {8, 1, 2, 7}\n",
            "Día 18: Tomas [30], Actores {1, 4}\n",
            "Día 19: Tomas [19], Actores {1, 3}\n",
            "Día 20: Tomas [7], Actores {1, 2, 4, 5}\n",
            "Día 21: Tomas [20], Actores {1, 3, 4, 5}\n",
            "Día 22: Tomas [5], Actores {8, 2, 4}\n",
            "Día 23: Tomas [22], Actores {1, 2, 3, 4}\n",
            "Día 24: Tomas [2], Actores {3, 4, 5}\n",
            "Día 25: Tomas [13], Actores {1, 4, 5}\n",
            "Día 26: Tomas [12], Actores {1, 2, 3, 4, 6}\n",
            "Día 27: Tomas [28], Actores {1, 4}\n"
          ]
        }
      ],
      "source": [
        "from random import sample\n",
        "from collections import defaultdict\n",
        "\n",
        "def calcular_coste_fuerza_bruta(planificacion, tomas_data):\n",
        "    asistencia = defaultdict(set)\n",
        "    for dia_idx, tomas_dia in enumerate(planificacion, 1):  # Días numerados desde 1\n",
        "        for toma in tomas_dia:\n",
        "            for actor in tomas_data[toma]:\n",
        "                asistencia[actor].add(dia_idx)\n",
        "    return sum(len(dias) for dias in asistencia.values())\n",
        "\n",
        "def algoritmo_fuerza_bruta(tomas_data, max_tomas_dia=6, limite=5, iteraciones=100):\n",
        "    tomas_validas = {k: v for k, v in tomas_data.items() if k in tomas_data}  \n",
        "    if len(tomas_validas) > limite:\n",
        "        print(f\"Usando solo primeras {limite} tomas de {len(tomas_validas)}\")\n",
        "        tomas_validas = dict(list(tomas_validas.items())[:limite])\n",
        "    \n",
        "    mejor_coste = float('inf')\n",
        "    mejor_plan = None\n",
        "    tomas_list = list(tomas_validas.keys())\n",
        "    \n",
        "    for _ in range(iteraciones):\n",
        "        perm = sample(tomas_list, len(tomas_list))\n",
        "        plan = []\n",
        "        dia_actual = []\n",
        "        actores_dia = set()\n",
        "        \n",
        "        for toma in perm:\n",
        "            actores_toma = tomas_validas[toma]\n",
        "            if len(dia_actual) < max_tomas_dia and actores_dia.isdisjoint(actores_toma):\n",
        "                dia_actual.append(toma)\n",
        "                actores_dia.update(actores_toma)\n",
        "            else:\n",
        "                if dia_actual:\n",
        "                    plan.append(dia_actual)\n",
        "                dia_actual = [toma]\n",
        "                actores_dia = set(actores_toma)\n",
        "        \n",
        "        if dia_actual:\n",
        "            plan.append(dia_actual)\n",
        "        \n",
        "        coste = calcular_coste_fuerza_bruta(plan, tomas_validas)\n",
        "        if coste < mejor_coste:\n",
        "            mejor_coste = coste\n",
        "            mejor_plan = plan\n",
        "    \n",
        "    return mejor_plan, mejor_coste\n",
        "\n",
        "# Ejemplo de uso\n",
        "plan, coste = algoritmo_fuerza_bruta(tomas, max_tomas_dia=6, limite=32, iteraciones=100)\n",
        "print(f\"Días: {len(plan)}, Coste: {coste}\")\n",
        "print(\"Detalle:\")\n",
        "for idx, dia in enumerate(plan, 1):\n",
        "    print(f\"Día {idx}: Tomas {dia}, Actores {set().union(*[tomas[t] for t in dia])}\")"
      ]
    },
    {
      "cell_type": "markdown",
      "metadata": {
        "id": "tgrnsC2nkFa8"
      },
      "source": [
        "**7.Calcula la complejidad del algoritmo por fuerza bruta**"
      ]
    },
    {
      "cell_type": "markdown",
      "metadata": {
        "id": "9eUd3xwckP68"
      },
      "source": [
        "Respuesta"
      ]
    },
    {
      "cell_type": "markdown",
      "metadata": {},
      "source": [
        "La complejidad del algoritmo por fuerza bruta es muy alta ya que tiene diversos facotres que contribuyen a ella:\n",
        "\n",
        "- Permutaciones de tomas: Se generan todas las posibles ordenaciones de las tomas (N!).\n",
        "\n",
        "- Agrupación en días: Para cada permutación, se divide en grupos de hasta 6 tomas.\n",
        "\n",
        "- Verificación de conflictos: Para cada grupo, se verifica que no haya actores repetidos.\n",
        "\n",
        "Fórmula de complejidad:\n",
        "\n",
        "-  O(N!×N×A) = 2.65 x 10e32\n",
        "\n",
        "Donde:\n",
        "\n",
        "N = Número de tomas (30)\n",
        "\n",
        "A = Número máximo de actores por toma (10)"
      ]
    },
    {
      "cell_type": "markdown",
      "metadata": {
        "id": "txbrmLmskReM"
      },
      "source": [
        "**8.(*)Diseña un algoritmo que mejore la complejidad del algortimo por fuerza bruta. Argumenta porque crees que mejora el algoritmo por fuerza bruta**"
      ]
    },
    {
      "cell_type": "markdown",
      "metadata": {
        "id": "hLrVwt5QkZPD"
      },
      "source": [
        "Respuesta"
      ]
    },
    {
      "cell_type": "code",
      "execution_count": 10,
      "metadata": {},
      "outputs": [],
      "source": [
        "def greedy_planificacion(tomas, max_tomas_por_dia=6):\n",
        "    restantes = set(tomas.keys())\n",
        "    planificacion = []\n",
        "    dia_num = 1\n",
        "\n",
        "    while restantes:\n",
        "        dia = []\n",
        "        actores_en_dia = set()\n",
        "        \n",
        "        # Ordenar tomas por: 1) actores no usados hoy, 2) tomas con menos actores\n",
        "        candidatos = sorted(restantes, \n",
        "                          key=lambda t: (-len(tomas[t] - actores_en_dia), len(tomas[t])))\n",
        "        \n",
        "        for toma in candidatos:\n",
        "            if len(dia) >= max_tomas_por_dia:\n",
        "                break\n",
        "            if actores_en_dia.isdisjoint(tomas[toma]):\n",
        "                dia.append(toma)\n",
        "                actores_en_dia.update(tomas[toma])\n",
        "        \n",
        "        if not dia:  # Forzar asignación si hay conflictos\n",
        "            toma = min(restantes, key=lambda t: len(tomas[t] & actores_en_dia))\n",
        "            dia.append(toma)\n",
        "            actores_en_dia.update(tomas[toma])\n",
        "        \n",
        "        restantes -= set(dia)\n",
        "        planificacion.append({\n",
        "            'dia': dia_num,\n",
        "            'tomas': dia,\n",
        "            'actores': actores_en_dia,\n",
        "            'num_tomas': len(dia),\n",
        "            'num_actores': len(actores_en_dia),\n",
        "            'tomas_str': \", \".join(map(str, sorted(dia))),\n",
        "            'actores_str': \", \".join(map(str, sorted(actores_en_dia)))\n",
        "        })\n",
        "        dia_num += 1\n",
        "    \n",
        "    return planificacion\n",
        "\n"
      ]
    },
    {
      "cell_type": "code",
      "execution_count": 22,
      "metadata": {},
      "outputs": [
        {
          "name": "stdout",
          "output_type": "stream",
          "text": [
            "\n",
            "======================== RESULTADOS ========================\n",
            "Días necesarios: 22\n",
            "Coste total (días-actor): 94\n",
            "\n",
            "\n",
            "======================== CALENDARIO ========================\n",
            "Detalle por día:\n",
            "\n",
            "Día 1:\n",
            "• Tomas: 1, 21\n",
            "• Actores: 1, 2, 3, 4, 5, 6, 8\n",
            "• Estadísticas: 2 tomas, 7 actores\n",
            "\n",
            "Día 2:\n",
            "• Tomas: 11, 16\n",
            "• Actores: 1, 2, 3, 4, 5, 8, 10\n",
            "• Estadísticas: 2 tomas, 7 actores\n",
            "\n",
            "Día 3:\n",
            "• Tomas: 12\n",
            "• Actores: 1, 2, 3, 4, 6\n",
            "• Estadísticas: 1 tomas, 5 actores\n",
            "\n",
            "Día 4:\n",
            "• Tomas: 2, 4\n",
            "• Actores: 1, 2, 3, 4, 5, 7, 8\n",
            "• Estadísticas: 2 tomas, 7 actores\n",
            "\n",
            "Día 5:\n",
            "• Tomas: 6, 18\n",
            "• Actores: 1, 2, 3, 4, 5, 6\n",
            "• Estadísticas: 2 tomas, 6 actores\n"
          ]
        }
      ],
      "source": [
        "# Ejecutar el algoritmo\n",
        "plan = greedy_planificacion(tomas)\n",
        "coste = calcular_coste(plan, tomas)\n",
        "\n",
        "print(f\"\\n{' RESULTADOS ':=^60}\")\n",
        "print(f\"Días necesarios: {len(plan)}\")\n",
        "print(f\"Coste total (días-actor): {coste}\\n\")\n",
        "\n",
        "# Para poder hacer una comprobación en el coste y ver el detalle por día se muestra el \"calendario\"\n",
        "print(f\"\\n{' CALENDARIO ':=^60}\")\n",
        "print(\"Detalle por día:\")\n",
        "for dia in plan[:5]:\n",
        "    print(f\"\\nDía {dia['dia']}:\")\n",
        "    print(f\"• Tomas: {dia['tomas_str']}\")\n",
        "    print(f\"• Actores: {dia['actores_str']}\")\n",
        "    print(f\"• Estadísticas: {dia['num_tomas']} tomas, {dia['num_actores']} actores\")"
      ]
    },
    {
      "cell_type": "markdown",
      "metadata": {},
      "source": [
        "Se trata de una heurística Greedy , por lo que no explora todas las combinacioes posibles sino que toma las mejores decisioes en cada paso, por tanto se reduce masivamente la complejidad."
      ]
    },
    {
      "cell_type": "markdown",
      "metadata": {
        "id": "eGDB4K6uk1iN"
      },
      "source": [
        "**9.(*)Calcula la complejidad del algoritmo**"
      ]
    },
    {
      "cell_type": "markdown",
      "metadata": {
        "id": "NhpTh_BPk1ms"
      },
      "source": [
        "Respuesta"
      ]
    },
    {
      "cell_type": "markdown",
      "metadata": {},
      "source": [
        "En el peor de los casos este algoritmo deberia tener una complejidad de:\n",
        "\n",
        "- O(N^2 log N) = 4,410 operaciones aprox\n",
        "\n",
        "Este será el caso cuando el número total de días sea igual al número total de tomas.En caso de que el número de días sea menor que el de tomas será de:\n",
        "\n",
        "- O(D X N log N)\n",
        "\n",
        "Como se puede ver es un orden de magnitud mucho menor que utilizando fuerza bruta"
      ]
    },
    {
      "cell_type": "markdown",
      "metadata": {
        "id": "3M6QjTsSkmYe"
      },
      "source": [
        "**10.Según el problema (y tenga sentido), diseña un juego de datos de entrada aleatorios**"
      ]
    },
    {
      "cell_type": "markdown",
      "metadata": {
        "id": "Jc3_OlyNkvjZ"
      },
      "source": [
        "Respuesta"
      ]
    },
    {
      "cell_type": "code",
      "execution_count": 43,
      "metadata": {
        "id": "sJ-N2etjkyWc"
      },
      "outputs": [
        {
          "name": "stdout",
          "output_type": "stream",
          "text": [
            "Primeras 5 filas del DataFrame generado:\n",
            "  Toma    1    2    3    4    5    6    7    8    9   10  Unnamed: 11\n",
            "0    1  0.0  1.0  1.0  0.0  0.0  0.0  0.0  0.0  1.0  0.0          NaN\n",
            "1    2  0.0  0.0  0.0  1.0  0.0  0.0  1.0  0.0  0.0  0.0          NaN\n",
            "2    3  0.0  1.0  0.0  1.0  0.0  0.0  0.0  0.0  0.0  0.0          NaN\n",
            "3    4  0.0  0.0  0.0  1.0  0.0  1.0  1.0  1.0  0.0  0.0          NaN\n",
            "4    5  0.0  0.0  0.0  1.0  0.0  0.0  0.0  0.0  0.0  0.0          NaN\n",
            "\n",
            "Ejemplo de tomas generadas:\n",
            "Toma 1: Actores [2, 3, 9]\n",
            "Toma 2: Actores [4, 7]\n",
            "Toma 3: Actores [2, 4]\n",
            "Toma 4: Actores [4, 6, 7, 8]\n",
            "Toma 5: Actores [4]\n"
          ]
        }
      ],
      "source": [
        "import pandas as pd\n",
        "import random\n",
        "from collections import defaultdict\n",
        "\n",
        "def generar_datos_aleatorios(num_tomas=30, num_actores=10, max_actores_por_toma=5,):\n",
        "    \"\"\"\n",
        "    Genera un DataFrame aleatorio con la misma estructura que el problema original.\n",
        "    \n",
        "    Args:\n",
        "        num_tomas (int): Número de tomas a generar (default: 30)\n",
        "        num_actores (int): Número total de actores (default: 10)\n",
        "        max_actores_por_toma (int): Máximo de actores por toma (default: 5)\n",
        "    \n",
        "    Returns:\n",
        "        pd.DataFrame: DataFrame con la misma estructura que el CSV original\n",
        "        dict: Diccionario de tomas (para verificación)\n",
        "    \"\"\"\n",
        "    \n",
        "    # Generar datos aleatorios\n",
        "    datos = []\n",
        "    tomas = defaultdict(set)\n",
        "    \n",
        "    for toma_id in range(1, num_tomas + 1):\n",
        "        # Seleccionar actores aleatorios para esta toma\n",
        "        num_actores_toma = random.randint(1, max_actores_por_toma)\n",
        "        actores_toma = random.sample(range(1, num_actores + 1), num_actores_toma)\n",
        "        \n",
        "        # Crear fila para el DataFrame\n",
        "        fila = {'Toma': toma_id}\n",
        "        for actor in range(1, num_actores + 1):\n",
        "            fila[str(actor)] = 1.0 if actor in actores_toma else 0.0\n",
        "        \n",
        "        datos.append(fila)\n",
        "        tomas[toma_id] = set(actores_toma)\n",
        "    \n",
        "    # Crear DataFrame\n",
        "    columnas = ['Toma'] + [str(i) for i in range(1, num_actores + 1)] + ['Unnamed: 11']\n",
        "    df = pd.DataFrame(datos, columns=columnas)\n",
        "    \n",
        "    # 3. Añadir fila de TOTALES (opcional)\n",
        "    total_row = {'Toma': 'TOTAL'}\n",
        "    for actor in range(1, num_actores + 1):\n",
        "        total_row[str(actor)] = sum(1 for toma_actors in tomas.values() if actor in toma_actors)\n",
        "    \n",
        "    # Convertir total_row a un DataFrame de una sola fila para poder concatenarlo\n",
        "    total_df = pd.DataFrame([total_row], columns=columnas)\n",
        "    \n",
        "    df = pd.concat([df, total_df], ignore_index=True)\n",
        "    \n",
        "    return df, tomas\n",
        "\n",
        "# Ejemplo de uso\n",
        "datos_aleatorios, tomas_aleatorias = generar_datos_aleatorios(\n",
        "    num_tomas=30,\n",
        "    num_actores=10,\n",
        "    max_actores_por_toma=4,\n",
        ")\n",
        "\n",
        "# Mostrar primeras filas\n",
        "print(\"Primeras 5 filas del DataFrame generado:\")\n",
        "print(datos_aleatorios.head())\n",
        "\n",
        "# Verificar diccionario de tomas\n",
        "print(\"\\nEjemplo de tomas generadas:\")\n",
        "for toma_id in range(1, 6):\n",
        "    print(f\"Toma {toma_id}: Actores {sorted(tomas_aleatorias[toma_id])}\")"
      ]
    },
    {
      "cell_type": "markdown",
      "metadata": {
        "id": "zy5ZROmjlGo1"
      },
      "source": [
        "**11.Aplica el algoritmo al juego de datos generado**"
      ]
    },
    {
      "cell_type": "markdown",
      "metadata": {
        "id": "_Cmj-PVylMsa"
      },
      "source": [
        "Respuesta"
      ]
    },
    {
      "cell_type": "code",
      "execution_count": 41,
      "metadata": {
        "id": "Jkx8GeiYlUz1"
      },
      "outputs": [
        {
          "name": "stdout",
          "output_type": "stream",
          "text": [
            "\n",
            "======================== RESULTADOS ========================\n",
            "Días necesarios: 11\n",
            "Coste total (días-actor): 68\n",
            "\n",
            "Detalle por día (mostrando primeros 5 días):\n",
            "\n",
            "Día 1:\n",
            "• Tomas: [9, 6, 22, 23]\n",
            "• Actores: [1, 2, 3, 4, 5, 6, 7, 8, 9]\n",
            "• Estadísticas: 4 tomas, 9 actores\n",
            "\n",
            "Día 2:\n",
            "• Tomas: [11, 3, 13, 26]\n",
            "• Actores: [1, 2, 3, 4, 5, 6, 7, 8, 9]\n",
            "• Estadísticas: 4 tomas, 9 actores\n",
            "\n",
            "Día 3:\n",
            "• Tomas: [18, 7, 17]\n",
            "• Actores: [2, 3, 4, 5, 6, 7, 8, 9, 10]\n",
            "• Estadísticas: 3 tomas, 9 actores\n",
            "\n",
            "Día 4:\n",
            "• Tomas: [27, 2, 24, 12]\n",
            "• Actores: [1, 2, 3, 4, 5, 6, 7, 8, 9, 10]\n",
            "• Estadísticas: 4 tomas, 10 actores\n",
            "\n",
            "Día 5:\n",
            "• Tomas: [16, 1, 5, 14, 4]\n",
            "• Actores: [1, 2, 3, 4, 5, 6, 7, 8, 9, 10]\n",
            "• Estadísticas: 5 tomas, 10 actores\n",
            "\n",
            "Verificación:\n",
            "Total tomas asignadas: 30/30\n",
            "Actores usados: 10\n"
          ]
        }
      ],
      "source": [
        "# 1. Primero ejecuta la generación de datos aleatorios (el código que ya tienes)\n",
        "# [El código de generar_datos_aleatorios que proporcionaste]\n",
        "\n",
        "# 2. Luego en una nueva celda, aplica el algoritmo greedy:\n",
        "\n",
        "def greedy_planificacion(tomas, max_tomas_por_dia=6):\n",
        "    restantes = set(tomas.keys())\n",
        "    planificacion = []\n",
        "\n",
        "    while restantes:\n",
        "        dia = []\n",
        "        actores_en_dia = set()\n",
        "\n",
        "        # Ordenar tomas por actores no cubiertos\n",
        "        candidatos = sorted(restantes, key=lambda t: len(tomas[t] - actores_en_dia), reverse=True)\n",
        "\n",
        "        for toma in candidatos:\n",
        "            if len(dia) >= max_tomas_por_dia:\n",
        "                break\n",
        "            if actores_en_dia.isdisjoint(tomas[toma]):\n",
        "                dia.append(toma)\n",
        "                actores_en_dia.update(tomas[toma])\n",
        "        \n",
        "        if not dia:\n",
        "            toma = restantes.pop()\n",
        "            dia.append(toma)\n",
        "        \n",
        "        restantes -= set(dia)\n",
        "        planificacion.append(dia)\n",
        "    \n",
        "    return planificacion\n",
        "\n",
        "\n",
        "# Aplicar a los datos generados\n",
        "plan = greedy_planificacion(tomas_aleatorias)\n",
        "coste = calcular_coste(plan, tomas_aleatorias)\n",
        "\n",
        "# Mostrar resultados detallados\n",
        "print(f\"\\n{' RESULTADOS ':=^60}\")\n",
        "print(f\"Días necesarios: {len(plan)}\")\n",
        "print(f\"Coste total (días-actor): {coste}\\n\")\n",
        "\n",
        "print(\"Detalle por día (mostrando primeros 5 días):\")\n",
        "for i, dia in enumerate(plan[:5], 1):\n",
        "    actores = set().union(*[tomas_aleatorias[t] for t in dia])\n",
        "    print(f\"\\nDía {i}:\")\n",
        "    print(f\"• Tomas: {dia}\")\n",
        "    print(f\"• Actores: {sorted(actores)}\")\n",
        "    print(f\"• Estadísticas: {len(dia)} tomas, {len(actores)} actores\")\n",
        "\n",
        "# Verificación\n",
        "print(\"\\nVerificación:\")\n",
        "print(f\"Total tomas asignadas: {sum(len(d) for d in plan)}/{len(tomas_aleatorias)}\")\n",
        "print(f\"Actores usados: {len(set().union(*tomas_aleatorias.values()))}\")"
      ]
    },
    {
      "cell_type": "markdown",
      "metadata": {
        "id": "eTFWUJQrtGcv"
      },
      "source": [
        "**12.Enumera las referencias que has utilizado(si ha sido necesario) para llevar a cabo el trabajo**"
      ]
    },
    {
      "cell_type": "markdown",
      "metadata": {
        "id": "YKQ_mRBttWsP"
      },
      "source": [
        "Respuesta"
      ]
    },
    {
      "cell_type": "markdown",
      "metadata": {},
      "source": [
        "Apuntes de la asignatura de Algoritmos de Optimización VIU 2025"
      ]
    },
    {
      "cell_type": "markdown",
      "metadata": {
        "id": "kAkDPUyRtYyH"
      },
      "source": [
        "**13.Describe brevemente las lineas de como crees que es posible avanzar en el estudio del problema. Ten en cuenta incluso posibles variaciones del problema y/o variaciones al alza del tamaño**"
      ]
    },
    {
      "cell_type": "markdown",
      "metadata": {
        "id": "IE0uZmo-tZu-"
      },
      "source": [
        "Respuesta"
      ]
    },
    {
      "cell_type": "markdown",
      "metadata": {},
      "source": [
        "En un estudio real, los actores no ganan todos los mismo así que el primer avance para mí seria tener en cuenta lo que cobra cada actor. No es igual un protagonista que un actor secundario.\n",
        "\n",
        "Es posible que uno de los actores tenga que sufrir un cambio fisico, por ejemplo el de un náufrago (como Chris Hemsworth en \"El corazón del Mar\") por lo que muchas de tomas tendran un orden de grabación o dependencia respecto a la fecha. Todas en las que estaba fuerte irán juntas y en las que está muy delgado iran juntas."
      ]
    }
  ],
  "metadata": {
    "colab": {
      "provenance": []
    },
    "kernelspec": {
      "display_name": "Python 3",
      "name": "python3"
    },
    "language_info": {
      "codemirror_mode": {
        "name": "ipython",
        "version": 3
      },
      "file_extension": ".py",
      "mimetype": "text/x-python",
      "name": "python",
      "nbconvert_exporter": "python",
      "pygments_lexer": "ipython3",
      "version": "3.13.2"
    }
  },
  "nbformat": 4,
  "nbformat_minor": 0
}
