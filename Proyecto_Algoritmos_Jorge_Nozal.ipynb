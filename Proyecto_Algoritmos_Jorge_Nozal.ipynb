{
  "cells": [
    {
      "cell_type": "markdown",
      "metadata": {
        "id": "hVbXYX-RfPWh"
      },
      "source": [
        "# Algoritmos de optimización - Seminario<br>\n",
        "Nombre y Apellidos: Jorge Nozal Martin <br>\n",
        "Url: https://github.com/nz18/Master_IA/blob/algoritmos_opt/Proyecto_Algoritmos_Jorge_Nozal.ipynb<br>\n",
        "\n",
        "\n",
        "Problema:\n",
        "> 1. Sesiones de doblaje <br>\n",
        "\n",
        "**Descripción del problema:**\n",
        "\n",
        "Se precisa coordinar el doblaje de una película. Los actores del doblaje deben coincidir en las tomas en las que sus personajes aparecen juntos en las diferentes tomas. Los actores de doblaje cobran todos la misma cantidad por cada día que deben desplazarse hasta el estudio de grabación independientemente del número de tomas que se graben. No es posible grabar más de 6 tomas por día.\n",
        "\n",
        "El objetivo es planificar las sesiones por día de manera que el gasto por los servicios de los actores de doblaje sea el menor posible. Los datos son:\n",
        "\n",
        "Número de actores: 10\n",
        "\n",
        "Número de tomas : 30\n",
        "\n",
        "Actores/Tomas : https://bit.ly/36D8IuK\n",
        "\n",
        "\n",
        "(*) La respuesta es obligatoria\n",
        "\n",
        "\n",
        "\n",
        "\n",
        "\n",
        "                                        "
      ]
    },
    {
      "cell_type": "markdown",
      "metadata": {
        "id": "3_-exlrTgLd-"
      },
      "source": [
        "**1.(*)¿Cuantas posibilidades hay sin tener en cuenta las restricciones?<br>**\n"
      ]
    },
    {
      "cell_type": "code",
      "execution_count": 31,
      "metadata": {
        "id": "qPvE8i88S9CI",
        "outputId": "34802393-694c-4784-aa14-e27b37a097b7",
        "colab": {
          "base_uri": "https://localhost:8080/",
          "height": 0
        }
      },
      "outputs": [
        {
          "output_type": "stream",
          "name": "stdout",
          "text": [
            "Requirement already satisfied: sympy in /usr/local/lib/python3.11/dist-packages (1.13.1)\n",
            "Requirement already satisfied: mpmath<1.4,>=1.1.0 in /usr/local/lib/python3.11/dist-packages (from sympy) (1.3.0)\n"
          ]
        }
      ],
      "source": [
        "!pip install sympy"
      ]
    },
    {
      "cell_type": "code",
      "execution_count": 32,
      "metadata": {
        "id": "wJdhl_ApS9CK",
        "outputId": "50b336c5-55d3-41a1-e5af-c66532a905bb",
        "colab": {
          "base_uri": "https://localhost:8080/",
          "height": 0
        }
      },
      "outputs": [
        {
          "output_type": "stream",
          "name": "stdout",
          "text": [
            "Número de particiones sin restricciones (número de Bell): B(30) = 846749014511809332450147\n"
          ]
        }
      ],
      "source": [
        "#Para calcular el número posible de participaciones sin tener en cuanta resticciones de tomas o actores, podemos usar el número de Bell.\n",
        "#Es un número que nos da las formas de dividir un cojunto de n elementos en subconjuntos no vacíos (nuestros días de grabación).\n",
        "\n",
        "from sympy import bell\n",
        "\n",
        "n = 30\n",
        "print(f\"Número de particiones sin restricciones (número de Bell): B({n}) = {bell(n)}\")\n"
      ]
    },
    {
      "cell_type": "markdown",
      "metadata": {
        "id": "Jmjry3A6S9CK"
      },
      "source": [
        "**2.¿Cuantas posibilidades hay teniendo en cuenta todas las restricciones.**"
      ]
    },
    {
      "cell_type": "code",
      "execution_count": 33,
      "metadata": {
        "id": "GCyVJa6OS9CL",
        "outputId": "1e613a33-6420-43a4-f15c-8a2760924914",
        "colab": {
          "base_uri": "https://localhost:8080/",
          "height": 0
        }
      },
      "outputs": [
        {
          "output_type": "stream",
          "name": "stdout",
          "text": [
            "Número de particiones sin repetir orden y con bloques de ≤ 6: 1206\n"
          ]
        }
      ],
      "source": [
        "# Como ahora ya tenemos la rstricción de que no se pueden hacer más de 6 tomas al día\n",
        "# Tenemos que calcular cuántas formas hay de agrupar 30 tomas en grupos de 1 a 6 cada día.\n",
        "\n",
        "#Usamos una función backtracking\n",
        "\n",
        "def contar_particiones(n_tomas, max_tomas_por_dia, actual=[]):\n",
        "    if n_tomas == 0:            #No grabar tomas en un día es posible asi que cuenta 1\n",
        "        return 1\n",
        "\n",
        "    if n_tomas < 0:             #Si nos pasamos de n_tomas ya no sigue contando participaciones\n",
        "        return 0\n",
        "\n",
        "    total = 0                   # Conteo de las particiones válidas\n",
        "\n",
        "    # Para evitar permutaciones iguales, aseguramos que los bloques estén ordenados de menor a mator\n",
        "    start = actual[-1] if actual else 1\n",
        "\n",
        "    for i in range(start, max_tomas_por_dia + 1):\n",
        "\n",
        "        total += contar_particiones(n_tomas - i, max_tomas_por_dia, actual + [i])\n",
        "\n",
        "    return total\n",
        "\n",
        "total_particiones = contar_particiones(30, 6)\n",
        "print(f\"Número de particiones sin repetir orden y con bloques de ≤ 6: {total_particiones}\")\n",
        "\n",
        "#Es posible que la pregunta también se refiera a cuando los actores estan disponibles, pero la restricción en el enunciado es la de 6 tomas por día\n"
      ]
    },
    {
      "cell_type": "markdown",
      "metadata": {
        "id": "dzynfVJahHoY"
      },
      "source": [
        "Modelo para el espacio de soluciones<br>\n",
        "**3.(*) ¿Cual es la estructura de datos que mejor se adapta al problema? Argumentalo.(Es posible que hayas elegido una al principio y veas la necesidad de cambiar, arguentalo)**\n"
      ]
    },
    {
      "cell_type": "markdown",
      "metadata": {
        "id": "xFIJrOwKi2Ti"
      },
      "source": [
        "Respuesta"
      ]
    },
    {
      "cell_type": "markdown",
      "metadata": {
        "id": "aT0Eh8dbS9CM"
      },
      "source": [
        " Estructura de datos:\n",
        " - tomas: dict[int, set[int]] - Se almacenarán actores por toma\n",
        "    \n",
        "    Un diccionario donde la clave es el número de la toma (int) y el valor es un conjunto o set de los actores que participan en esa toma (evitado así repetidos).\n",
        "\n",
        " - planificación: list[list[int]] - Se almacenarán las tomas por día\n",
        "\n",
        "    Una lista donde cada elemento es otra lista. Cada sub-lista representa un día de grabación y contiene los números de las tomas (int) que se grabarán ese día\n",
        "\n",
        " - asistencia: dict[int, set[int]] - Se almacenarán días por actor\n",
        "\n",
        "    Un diccionario donde la clave es el identificador del actor (int) y el valor es un conjunto (`set`) de los índices de los días (int) en los que ese actor debe asistir al estudio."
      ]
    },
    {
      "cell_type": "code",
      "execution_count": 34,
      "metadata": {
        "id": "iq6Fe32MgpDX",
        "outputId": "b8c012a9-2542-459c-cfc5-2e946b08a8ef",
        "colab": {
          "base_uri": "https://localhost:8080/",
          "height": 0
        }
      },
      "outputs": [
        {
          "output_type": "stream",
          "name": "stdout",
          "text": [
            "        1    2    3    4    5    6    7    8    9   10  Total\n",
            "Toma                                                         \n",
            "1     1.0  1.0  1.0  1.0  1.0  0.0  0.0  0.0  0.0  0.0    5.0\n",
            "2     0.0  0.0  1.0  1.0  1.0  0.0  0.0  0.0  0.0  0.0    3.0\n",
            "3     0.0  1.0  0.0  0.0  1.0  0.0  1.0  0.0  0.0  0.0    3.0\n",
            "4     1.0  1.0  0.0  0.0  0.0  0.0  1.0  1.0  0.0  0.0    4.0\n",
            "5     0.0  1.0  0.0  1.0  0.0  0.0  0.0  1.0  0.0  0.0    3.0\n"
          ]
        }
      ],
      "source": [
        "import pandas as pd\n",
        "\n",
        "#  Cargamos el CSV desde GitHub\n",
        "url = \"https://raw.githubusercontent.com/nz18/Master_IA/algoritmos_opt/datos_problema_doblaje.csv\"\n",
        "df = pd.read_csv(url, header=1) # header=1 para usar la segunda fila como nombres de columnas\n",
        "\n",
        "# Limpimos los datos\n",
        "df = df.drop(columns=['Unnamed: 11'], errors='ignore')\n",
        "df = df[pd.to_numeric(df['Toma'], errors='coerce').notna()]\n",
        "df = df[df['Toma'] != 'TOTAL']\n",
        "df['Toma'] = df['Toma'].astype(int)\n",
        "df = df.set_index('Toma')\n",
        "\n",
        "# Mostramos las primeras filas para entender mejor la tabla\n",
        "print(df.head())"
      ]
    },
    {
      "cell_type": "code",
      "execution_count": 35,
      "metadata": {
        "id": "AdHxF1FmS9CM",
        "outputId": "0ee207f4-6219-40ac-9af0-68ff181924da",
        "colab": {
          "base_uri": "https://localhost:8080/",
          "height": 0
        }
      },
      "outputs": [
        {
          "output_type": "stream",
          "name": "stdout",
          "text": [
            "Toma 1: actores [1, 2, 3, 4, 5]\n",
            "Toma 2: actores [3, 4, 5]\n",
            "Toma 3: actores [2, 5, 7]\n",
            "Toma 4: actores [1, 2, 7, 8]\n",
            "Toma 5: actores [2, 4, 8]\n"
          ]
        }
      ],
      "source": [
        "# Creamos un diccionario para saber qué actores participan en cada toma\n",
        "tomas = {}\n",
        "\n",
        "# Solo consideramos columnas que son números\n",
        "actor_cols = [col for col in df.columns if str(col).isdigit()]\n",
        "\n",
        "for toma_id, row in df.iterrows():\n",
        "    # Recogemos los id de los actores para la toma\n",
        "    actores_en_toma = {int(col) for col in actor_cols if row[col] == 1.0}\n",
        "    tomas[toma_id] = actores_en_toma\n",
        "\n",
        "# Comprobamos las primeras 5 tomas\n",
        "for i, (toma_id, actores_set) in enumerate(tomas.items()):\n",
        "    if i >= 5:\n",
        "        break\n",
        "    print(f\"Toma {toma_id}: actores {sorted(list(actores_set))}\")"
      ]
    },
    {
      "cell_type": "markdown",
      "metadata": {
        "id": "7Z9U2W7bi-XS"
      },
      "source": [
        "Según el modelo para el espacio de soluciones<br>\n",
        "\n",
        "**4.(*)¿Cual es la función objetivo?**"
      ]
    },
    {
      "cell_type": "markdown",
      "metadata": {
        "id": "gnWY6_2yS9CN"
      },
      "source": [
        "Respuesta"
      ]
    },
    {
      "cell_type": "markdown",
      "metadata": {
        "id": "LX-hNmrHS9CN"
      },
      "source": [
        "La función objetivo en este problema de optimización es minimizar el gasto total por los servicios de los actores de doblaje.\n",
        "\n",
        "Dado que los actores cobran la misma cantidad por cada día que deben desplazarse al estudio de grabación (independientemente del número de tomas que graben ese día), el gasto total está directamente relacionado con el número total de días que cada actor asiste al estudio.\n",
        "\n",
        "def calcular_coste(planificacion, tomas)\n",
        "\n",
        "El coste total es la suma de la cantidad de días que cada actor debe asistir"
      ]
    },
    {
      "cell_type": "code",
      "execution_count": 36,
      "metadata": {
        "id": "RY9PrAPvS9CN"
      },
      "outputs": [],
      "source": [
        "from collections import defaultdict\n",
        "\n",
        "def calcular_coste(planificacion, tomas_data):\n",
        "    asistencia = defaultdict(set)\n",
        "    for dia_idx, dia in enumerate(planificacion):\n",
        "        for toma in dia['tomas']:\n",
        "            for actor in tomas_data[toma]:\n",
        "                asistencia[actor].add(dia_idx + 1)\n",
        "    total_coste = sum(len(dias) for dias in asistencia.values())\n",
        "    return total_coste"
      ]
    },
    {
      "cell_type": "markdown",
      "metadata": {
        "id": "vgYAp-BGS9CO"
      },
      "source": [
        "**5.(*)¿Es un problema de maximización o minimización?**"
      ]
    },
    {
      "cell_type": "markdown",
      "metadata": {
        "id": "BvYrsWF_S9CO"
      },
      "source": [
        "Respuesta"
      ]
    },
    {
      "cell_type": "markdown",
      "metadata": {
        "id": "KuM6BQ-KS9CO"
      },
      "source": [
        "Es un problema de minimización del coste total (días asistidos por actores).\n",
        "\n",
        "El enunciado del problema indica claramente que el objetivo es \"planificar las sesiones por día de manera que el gasto por los servicios de los actores de doblaje sea el menor posible.\"\n",
        "\n",
        "Dado que el gasto es el coste y queremos que sea lo más bajo posible, estamos buscando la solución que minimice la función objetivo descripta anteriormente\n",
        "\n"
      ]
    },
    {
      "cell_type": "markdown",
      "metadata": {
        "id": "rlnTYgY1j6I2"
      },
      "source": [
        "**6.Diseña un algoritmo para resolver el problema por fuerza bruta**"
      ]
    },
    {
      "cell_type": "markdown",
      "metadata": {
        "id": "70rDgxYXkC8r"
      },
      "source": [
        "Respuesta"
      ]
    },
    {
      "cell_type": "code",
      "execution_count": 37,
      "metadata": {
        "id": "CJb5sQ0qkENy",
        "outputId": "bc1d62db-8c4f-46c1-f891-a25f3d854902",
        "colab": {
          "base_uri": "https://localhost:8080/",
          "height": 0
        }
      },
      "outputs": [
        {
          "output_type": "stream",
          "name": "stdout",
          "text": [
            "Días: 26, Coste: 94\n",
            "Detalle:\n",
            "Día 1: Tomas [2], Actores {3, 4, 5}\n",
            "Día 2: Tomas [18], Actores {3, 6}\n",
            "Día 3: Tomas [24, 25], Actores {1, 2, 3, 4, 6, 10}\n",
            "Día 4: Tomas [29], Actores {1, 5, 6}\n",
            "Día 5: Tomas [22], Actores {1, 2, 3, 4}\n",
            "Día 6: Tomas [19, 5], Actores {1, 2, 3, 4, 8}\n",
            "Día 7: Tomas [30], Actores {1, 4}\n",
            "Día 8: Tomas [12], Actores {1, 2, 3, 4, 6}\n",
            "Día 9: Tomas [7], Actores {1, 2, 4, 5}\n",
            "Día 10: Tomas [28, 21], Actores {8, 1, 4, 6}\n",
            "Día 11: Tomas [17, 16], Actores {1, 10, 3, 4}\n",
            "Día 12: Tomas [6], Actores {1, 2, 4, 5}\n",
            "Día 13: Tomas [27], Actores {4, 5}\n",
            "Día 14: Tomas [26], Actores {1, 3, 5, 9}\n",
            "Día 15: Tomas [11], Actores {1, 2, 3, 5, 8}\n",
            "Día 16: Tomas [4], Actores {8, 1, 2, 7}\n",
            "Día 17: Tomas [3], Actores {2, 5, 7}\n",
            "Día 18: Tomas [8], Actores {1, 2, 6}\n",
            "Día 19: Tomas [15], Actores {1, 2, 7}\n",
            "Día 20: Tomas [20], Actores {1, 3, 4, 5}\n",
            "Día 21: Tomas [1], Actores {1, 2, 3, 4, 5}\n",
            "Día 22: Tomas [13], Actores {1, 4, 5}\n",
            "Día 23: Tomas [14], Actores {1, 3, 6}\n",
            "Día 24: Tomas [10], Actores {1, 2, 6, 9}\n",
            "Día 25: Tomas [23], Actores {1, 3}\n",
            "Día 26: Tomas [9], Actores {1, 2, 4}\n"
          ]
        }
      ],
      "source": [
        "from random import sample\n",
        "from collections import defaultdict\n",
        "\n",
        "def calcular_coste_fuerza_bruta(planificacion, tomas_data):\n",
        "    asistencia = defaultdict(set)\n",
        "    for dia_idx, tomas_dia in enumerate(planificacion, 1):  # Días numerados desde 1\n",
        "        for toma in tomas_dia:\n",
        "            for actor in tomas_data[toma]:\n",
        "                asistencia[actor].add(dia_idx)\n",
        "    return sum(len(dias) for dias in asistencia.values())\n",
        "\n",
        "def algoritmo_fuerza_bruta(tomas_data, max_tomas_dia=6, limite=5, iteraciones=100):\n",
        "    tomas_validas = {k: v for k, v in tomas_data.items() if k in tomas_data}\n",
        "    if len(tomas_validas) > limite:\n",
        "        print(f\"Usando solo primeras {limite} tomas de {len(tomas_validas)}\")\n",
        "        tomas_validas = dict(list(tomas_validas.items())[:limite])\n",
        "\n",
        "    mejor_coste = float('inf')\n",
        "    mejor_plan = None\n",
        "    tomas_list = list(tomas_validas.keys())\n",
        "\n",
        "    for _ in range(iteraciones):                         # Se ha usado un limite de iteraciones para poder mostrar algo y comparar más adelante\n",
        "        perm = sample(tomas_list, len(tomas_list))\n",
        "        plan = []\n",
        "        dia_actual = []\n",
        "        actores_dia = set()\n",
        "\n",
        "        for toma in perm:\n",
        "            actores_toma = tomas_validas[toma]\n",
        "            if len(dia_actual) < max_tomas_dia and actores_dia.isdisjoint(actores_toma):\n",
        "                dia_actual.append(toma)\n",
        "                actores_dia.update(actores_toma)\n",
        "            else:\n",
        "                if dia_actual:\n",
        "                    plan.append(dia_actual)\n",
        "                dia_actual = [toma]\n",
        "                actores_dia = set(actores_toma)\n",
        "\n",
        "        if dia_actual:\n",
        "            plan.append(dia_actual)\n",
        "\n",
        "        coste = calcular_coste_fuerza_bruta(plan, tomas_validas)\n",
        "        if coste < mejor_coste:\n",
        "            mejor_coste = coste\n",
        "            mejor_plan = plan\n",
        "\n",
        "    return mejor_plan, mejor_coste\n",
        "\n",
        "plan, coste = algoritmo_fuerza_bruta(tomas, max_tomas_dia=6, limite=32, iteraciones=100)\n",
        "print(f\"Días: {len(plan)}, Coste: {coste}\")\n",
        "print(\"Detalle:\")\n",
        "for idx, dia in enumerate(plan, 1):\n",
        "    print(f\"Día {idx}: Tomas {dia}, Actores {set().union(*[tomas[t] for t in dia])}\")"
      ]
    },
    {
      "cell_type": "markdown",
      "metadata": {
        "id": "tgrnsC2nkFa8"
      },
      "source": [
        "**7.Calcula la complejidad del algoritmo por fuerza bruta**"
      ]
    },
    {
      "cell_type": "markdown",
      "metadata": {
        "id": "9eUd3xwckP68"
      },
      "source": [
        "Respuesta"
      ]
    },
    {
      "cell_type": "markdown",
      "metadata": {
        "id": "BvmzcahyS9CP"
      },
      "source": [
        "La complejidad del algoritmo por fuerza bruta es muy alta ya que tiene diversos facotres que contribuyen a ella:\n",
        "\n",
        "- Permutaciones de tomas: Se generan todas las posibles ordenaciones de las tomas (N!).\n",
        "\n",
        "- Agrupación en días: Para cada permutación, se divide en grupos de hasta 6 tomas.\n",
        "\n",
        "- Verificación de conflictos: Para cada grupo, se verifica que no haya actores repetidos.\n",
        "\n",
        "Fórmula de complejidad:\n",
        "\n",
        "-  O(N!×N×A) = 2.65 x 10e32\n",
        "\n",
        "Donde:\n",
        "\n",
        "N = Número de tomas (30)\n",
        "\n",
        "A = Número máximo de actores por toma (10)"
      ]
    },
    {
      "cell_type": "markdown",
      "metadata": {
        "id": "txbrmLmskReM"
      },
      "source": [
        "**8.(*)Diseña un algoritmo que mejore la complejidad del algortimo por fuerza bruta. Argumenta porque crees que mejora el algoritmo por fuerza bruta**"
      ]
    },
    {
      "cell_type": "markdown",
      "metadata": {
        "id": "hLrVwt5QkZPD"
      },
      "source": [
        "Respuesta"
      ]
    },
    {
      "cell_type": "code",
      "execution_count": 38,
      "metadata": {
        "id": "wQx7faLvS9CQ"
      },
      "outputs": [],
      "source": [
        "def greedy_planificacion(tomas, max_tomas_por_dia=6):\n",
        "    restantes = set(tomas.keys())\n",
        "    planificacion = []\n",
        "    dia_num = 1\n",
        "\n",
        "    while restantes:\n",
        "        dia = []\n",
        "        actores_en_dia = set()\n",
        "\n",
        "        # Ordenamos las tomas por actores no cubiertos\n",
        "        candidatos = sorted(restantes, key=lambda t: len(tomas[t] - actores_en_dia), reverse=True)\n",
        "\n",
        "        for toma in candidatos:\n",
        "            if len(dia) >= max_tomas_por_dia:\n",
        "                break\n",
        "            if actores_en_dia.isdisjoint(tomas[toma]):\n",
        "                dia.append(toma)\n",
        "                actores_en_dia.update(tomas[toma])\n",
        "\n",
        "        if not dia:\n",
        "            toma = restantes.pop()\n",
        "            dia.append(toma)\n",
        "\n",
        "        restantes -= set(dia)\n",
        "        planificacion.append({\n",
        "            'dia': dia_num,\n",
        "            'tomas': dia,\n",
        "            'actores': actores_en_dia,\n",
        "            'num_tomas': len(dia),\n",
        "            'num_actores': len(actores_en_dia),\n",
        "            'tomas_str': \", \".join(map(str, dia)),\n",
        "            'actores_str': \", \".join(map(str, sorted(actores_en_dia)))\n",
        "        })\n",
        "        dia_num += 1\n",
        "\n",
        "    return planificacion\n",
        "\n"
      ]
    },
    {
      "cell_type": "code",
      "execution_count": 39,
      "metadata": {
        "id": "s_4VXyfaS9CQ",
        "outputId": "bb1d7bf6-83a8-4a1e-c044-716df81bf433",
        "colab": {
          "base_uri": "https://localhost:8080/",
          "height": 0
        }
      },
      "outputs": [
        {
          "output_type": "stream",
          "name": "stdout",
          "text": [
            "\n",
            "======================== RESULTADOS ========================\n",
            "Días necesarios: 22\n",
            "Coste total (días-actor): 94\n",
            "\n",
            "\n",
            "======================== CALENDARIO ========================\n",
            "Detalle por día:\n",
            "\n",
            "Día 1:\n",
            "• Tomas: 1, 21\n",
            "• Actores: 1, 2, 3, 4, 5, 6, 8\n",
            "• Estadísticas: 2 tomas, 7 actores\n",
            "\n",
            "Día 2:\n",
            "• Tomas: 11, 16\n",
            "• Actores: 1, 2, 3, 4, 5, 8, 10\n",
            "• Estadísticas: 2 tomas, 7 actores\n",
            "\n",
            "Día 3:\n",
            "• Tomas: 12\n",
            "• Actores: 1, 2, 3, 4, 6\n",
            "• Estadísticas: 1 tomas, 5 actores\n",
            "\n",
            "Día 4:\n",
            "• Tomas: 4, 2\n",
            "• Actores: 1, 2, 3, 4, 5, 7, 8\n",
            "• Estadísticas: 2 tomas, 7 actores\n",
            "\n",
            "Día 5:\n",
            "• Tomas: 6, 18\n",
            "• Actores: 1, 2, 3, 4, 5, 6\n",
            "• Estadísticas: 2 tomas, 6 actores\n"
          ]
        }
      ],
      "source": [
        "# Ejecutamos el algoritmo\n",
        "plan = greedy_planificacion(tomas)\n",
        "coste = calcular_coste(plan, tomas)\n",
        "\n",
        "print(f\"\\n{' RESULTADOS ':=^60}\")\n",
        "print(f\"Días necesarios: {len(plan)}\")\n",
        "print(f\"Coste total (días-actor): {coste}\\n\")\n",
        "\n",
        "# Para poder hacer una comprobación en el coste y ver el detalle por día se muestra el \"calendario\"\n",
        "print(f\"\\n{' CALENDARIO ':=^60}\")\n",
        "print(\"Detalle por día:\")\n",
        "for dia in plan[:5]:\n",
        "    print(f\"\\nDía {dia['dia']}:\")\n",
        "    print(f\"• Tomas: {dia['tomas_str']}\")\n",
        "    print(f\"• Actores: {dia['actores_str']}\")\n",
        "    print(f\"• Estadísticas: {dia['num_tomas']} tomas, {dia['num_actores']} actores\")\n",
        "\n",
        "\n",
        "# Como se ve en la solución el número de días cambia con respecto al algoritmo por fuera bruta, siendo menor gracias al algoritmo"
      ]
    },
    {
      "cell_type": "markdown",
      "metadata": {
        "id": "PlnO3hMcS9CR"
      },
      "source": [
        "Se trata de una heurística Greedy , por lo que no explora todas las combinacioes posibles sino que toma las mejores decisioes en cada paso, por tanto se reduce masivamente la complejidad."
      ]
    },
    {
      "cell_type": "markdown",
      "metadata": {
        "id": "eGDB4K6uk1iN"
      },
      "source": [
        "**9.(*)Calcula la complejidad del algoritmo**"
      ]
    },
    {
      "cell_type": "markdown",
      "metadata": {
        "id": "NhpTh_BPk1ms"
      },
      "source": [
        "Respuesta"
      ]
    },
    {
      "cell_type": "markdown",
      "metadata": {
        "id": "Z3foLb8DS9CR"
      },
      "source": [
        "En el peor de los casos este algoritmo deberia tener una complejidad de:\n",
        "\n",
        "- O(N^2 log N) = 4,410 operaciones aprox\n",
        "\n",
        "Este será el caso cuando el número total de días sea igual al número total de tomas.En caso de que el número de días sea menor que el de tomas será de:\n",
        "\n",
        "- O(D X N log N)\n",
        "\n",
        "Como se puede ver es un orden de magnitud mucho menor que utilizando fuerza bruta"
      ]
    },
    {
      "cell_type": "markdown",
      "metadata": {
        "id": "3M6QjTsSkmYe"
      },
      "source": [
        "**10.Según el problema (y tenga sentido), diseña un juego de datos de entrada aleatorios**"
      ]
    },
    {
      "cell_type": "markdown",
      "metadata": {
        "id": "Jc3_OlyNkvjZ"
      },
      "source": [
        "Respuesta"
      ]
    },
    {
      "cell_type": "code",
      "execution_count": 40,
      "metadata": {
        "id": "sJ-N2etjkyWc",
        "outputId": "b6626755-7662-46f3-fd56-9d4e02c405b3",
        "colab": {
          "base_uri": "https://localhost:8080/",
          "height": 0
        }
      },
      "outputs": [
        {
          "output_type": "stream",
          "name": "stdout",
          "text": [
            "Primeras 5 filas del DataFrame generado:\n",
            "  Toma    1    2    3    4    5    6    7    8    9   10  Unnamed: 11\n",
            "0    1  0.0  0.0  0.0  1.0  1.0  0.0  1.0  0.0  0.0  1.0          NaN\n",
            "1    2  1.0  0.0  0.0  0.0  0.0  0.0  1.0  0.0  0.0  0.0          NaN\n",
            "2    3  0.0  0.0  0.0  1.0  0.0  1.0  1.0  0.0  0.0  0.0          NaN\n",
            "3    4  1.0  0.0  1.0  0.0  0.0  0.0  0.0  0.0  0.0  0.0          NaN\n",
            "4    5  1.0  0.0  0.0  0.0  1.0  0.0  0.0  0.0  0.0  0.0          NaN\n",
            "\n",
            "Ejemplo de tomas generadas:\n",
            "Toma 1: Actores [4, 5, 7, 10]\n",
            "Toma 2: Actores [1, 7]\n",
            "Toma 3: Actores [4, 6, 7]\n",
            "Toma 4: Actores [1, 3]\n",
            "Toma 5: Actores [1, 5]\n"
          ]
        }
      ],
      "source": [
        "import pandas as pd\n",
        "import random\n",
        "from collections import defaultdict\n",
        "\n",
        "def generar_datos_aleatorios(num_tomas=30, num_actores=10, max_actores_por_toma=5,):\n",
        "    \"\"\"\n",
        "    Genera un DataFrame aleatorio con la misma estructura que el problema original.\n",
        "\n",
        "    Args:\n",
        "        num_tomas (int): Número de tomas a generar (default: 30)\n",
        "        num_actores (int): Número total de actores (default: 10)\n",
        "        max_actores_por_toma (int): Máximo de actores por toma (default: 5)\n",
        "\n",
        "    Returns:\n",
        "        pd.DataFrame: DataFrame con la misma estructura que el CSV original\n",
        "        dict: Diccionario de tomas (para verificación)\n",
        "    \"\"\"\n",
        "\n",
        "    datos = []\n",
        "    tomas = defaultdict(set)\n",
        "\n",
        "    for toma_id in range(1, num_tomas + 1):\n",
        "        # Seleccionamos el numero de actores aleatorios para esta toma\n",
        "        num_actores_toma = random.randint(1, max_actores_por_toma)\n",
        "        actores_toma = random.sample(range(1, num_actores + 1), num_actores_toma)\n",
        "\n",
        "        # Creamos la primera fila para el DataFrame\n",
        "        fila = {'Toma': toma_id}\n",
        "        for actor in range(1, num_actores + 1):\n",
        "            fila[str(actor)] = 1.0 if actor in actores_toma else 0.0\n",
        "\n",
        "        datos.append(fila)\n",
        "        tomas[toma_id] = set(actores_toma)\n",
        "\n",
        "    # Creamos el nuevo DataFrame\n",
        "    columnas = ['Toma'] + [str(i) for i in range(1, num_actores + 1)] + ['Unnamed: 11']\n",
        "    df = pd.DataFrame(datos, columns=columnas)\n",
        "\n",
        "    total_row = {'Toma': 'TOTAL'}\n",
        "    for actor in range(1, num_actores + 1):\n",
        "        total_row[str(actor)] = sum(1 for toma_actors in tomas.values() if actor in toma_actors)\n",
        "\n",
        "    # Convertimos el total_row a un DataFrame de una sola fila para poder concatenarlo\n",
        "    total_df = pd.DataFrame([total_row], columns=columnas)\n",
        "\n",
        "    df = pd.concat([df, total_df], ignore_index=True)\n",
        "\n",
        "    return df, tomas\n",
        "\n",
        "# Creamos los datos y tomas aleatorios\n",
        "datos_aleatorios, tomas_aleatorias = generar_datos_aleatorios(num_tomas=30,num_actores=10,max_actores_por_toma=4,)\n",
        "\n",
        "# Mostramos primeras filas para verificar la tabla de valores aleatorios\n",
        "print(\"Primeras 5 filas del DataFrame generado:\")\n",
        "print(datos_aleatorios.head())\n",
        "\n",
        "# Verificamos el diccionario de tomas\n",
        "print(\"\\nEjemplo de tomas generadas:\")\n",
        "for toma_id in range(1, 6):\n",
        "    print(f\"Toma {toma_id}: Actores {sorted(tomas_aleatorias[toma_id])}\")"
      ]
    },
    {
      "cell_type": "markdown",
      "metadata": {
        "id": "zy5ZROmjlGo1"
      },
      "source": [
        "**11.Aplica el algoritmo al juego de datos generado**"
      ]
    },
    {
      "cell_type": "markdown",
      "metadata": {
        "id": "_Cmj-PVylMsa"
      },
      "source": [
        "Respuesta"
      ]
    },
    {
      "cell_type": "code",
      "execution_count": 41,
      "metadata": {
        "id": "Jkx8GeiYlUz1",
        "outputId": "76509842-9ec7-430e-a74b-b9185d734a73",
        "colab": {
          "base_uri": "https://localhost:8080/",
          "height": 0
        }
      },
      "outputs": [
        {
          "output_type": "stream",
          "name": "stdout",
          "text": [
            "\n",
            "======================== RESULTADOS ========================\n",
            "Días necesarios: 12\n",
            "Coste total (días-actor): 81\n",
            "\n",
            "\n",
            "======================== CALENDARIO ========================\n",
            "Detalle por día:\n",
            "\n",
            "Día 1:\n",
            "• Tomas: 1, 20, 22\n",
            "• Actores: 1, 2, 3, 4, 5, 6, 7, 8, 9, 10\n",
            "• Estadísticas: 3 tomas, 10 actores\n",
            "\n",
            "Día 2:\n",
            "• Tomas: 11, 7, 24\n",
            "• Actores: 1, 3, 4, 5, 6, 7, 8, 10\n",
            "• Estadísticas: 3 tomas, 8 actores\n",
            "\n",
            "Día 3:\n",
            "• Tomas: 12, 9, 4\n",
            "• Actores: 1, 2, 3, 4, 6, 7, 8, 9, 10\n",
            "• Estadísticas: 3 tomas, 9 actores\n",
            "\n",
            "Día 4:\n",
            "• Tomas: 15, 17\n",
            "• Actores: 1, 2, 3, 5, 6, 7, 8, 10\n",
            "• Estadísticas: 2 tomas, 8 actores\n",
            "\n",
            "Día 5:\n",
            "• Tomas: 16, 10, 27\n",
            "• Actores: 1, 2, 4, 6, 7, 8, 9, 10\n",
            "• Estadísticas: 3 tomas, 8 actores\n"
          ]
        }
      ],
      "source": [
        "# 1. Primero ejecuta la generación de datos aleatorios\n",
        "\n",
        "# 2. Luego ejecuta el algoritmo (mismo codigo que se ha usado anteriormente guardado en variables distintas)\n",
        "plan_random = greedy_planificacion(tomas_aleatorias)\n",
        "coste_random = calcular_coste(plan_random, tomas_aleatorias)\n",
        "\n",
        "print(f\"\\n{' RESULTADOS ':=^60}\")\n",
        "print(f\"Días necesarios: {len(plan_random)}\")\n",
        "print(f\"Coste total (días-actor): {coste_random}\\n\")\n",
        "\n",
        "# Para poder hacer una comprobación en el coste y ver el detalle por día se muestra el \"calendario\"\n",
        "print(f\"\\n{' CALENDARIO ':=^60}\")\n",
        "print(\"Detalle por día:\")\n",
        "for dia in plan_random[:5]:\n",
        "    print(f\"\\nDía {dia['dia']}:\")\n",
        "    print(f\"• Tomas: {dia['tomas_str']}\")\n",
        "    print(f\"• Actores: {dia['actores_str']}\")\n",
        "    print(f\"• Estadísticas: {dia['num_tomas']} tomas, {dia['num_actores']} actores\")"
      ]
    },
    {
      "cell_type": "markdown",
      "metadata": {
        "id": "eTFWUJQrtGcv"
      },
      "source": [
        "**12.Enumera las referencias que has utilizado(si ha sido necesario) para llevar a cabo el trabajo**"
      ]
    },
    {
      "cell_type": "markdown",
      "metadata": {
        "id": "YKQ_mRBttWsP"
      },
      "source": [
        "Respuesta"
      ]
    },
    {
      "cell_type": "markdown",
      "metadata": {
        "id": "kcSbuAgpS9CU"
      },
      "source": [
        "Apuntes de la asignatura de Algoritmos de Optimización VIU 2025"
      ]
    },
    {
      "cell_type": "markdown",
      "metadata": {
        "id": "kAkDPUyRtYyH"
      },
      "source": [
        "**13.Describe brevemente las lineas de como crees que es posible avanzar en el estudio del problema. Ten en cuenta incluso posibles variaciones del problema y/o variaciones al alza del tamaño**"
      ]
    },
    {
      "cell_type": "markdown",
      "metadata": {
        "id": "IE0uZmo-tZu-"
      },
      "source": [
        "Respuesta"
      ]
    },
    {
      "cell_type": "markdown",
      "metadata": {
        "id": "q9HlVVaoS9CU"
      },
      "source": [
        "En un estudio real, los actores no ganan todos los mismo así que el primer avance para mí seria tener en cuenta lo que cobra cada actor. No es igual un protagonista que un actor secundario.\n",
        "\n",
        "Es posible que uno de los actores tenga que sufrir un cambio fisico, por ejemplo el de un náufrago (como Chris Hemsworth en \"El corazón del Mar\") por lo que muchas de tomas tendran un orden de grabación o dependencia respecto a la fecha. Todas en las que estaba fuerte irán juntas y en las que está muy delgado iran juntas."
      ]
    }
  ],
  "metadata": {
    "colab": {
      "provenance": []
    },
    "kernelspec": {
      "display_name": "Python 3",
      "name": "python3"
    },
    "language_info": {
      "codemirror_mode": {
        "name": "ipython",
        "version": 3
      },
      "file_extension": ".py",
      "mimetype": "text/x-python",
      "name": "python",
      "nbconvert_exporter": "python",
      "pygments_lexer": "ipython3",
      "version": "3.13.2"
    }
  },
  "nbformat": 4,
  "nbformat_minor": 0
}