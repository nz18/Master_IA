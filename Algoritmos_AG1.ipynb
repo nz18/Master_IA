{
  "cells": [
    {
      "cell_type": "markdown",
      "metadata": {
        "id": "kQn6fbhgtH9I"
      },
      "source": [
        "#Algoritmos - Actividad Guiada 1\n",
        "\n",
        "Nombre: Jorge Nozal Martín<br>\n",
        "URL: https://colab.research.google.com/drive/1lJqfBFQFbfb39vkg9KlMqWj527tXl9uY?usp=sharing\n",
        "\n",
        "http:github.com/rauxxxx/Algoritmos..\n"
      ]
    },
    {
      "cell_type": "markdown",
      "metadata": {
        "id": "_t62Ge7ZuKnC"
      },
      "source": [
        "##Torres de Hanoi con Divide y vencerás"
      ]
    },
    {
      "cell_type": "code",
      "execution_count": null,
      "metadata": {
        "colab": {
          "base_uri": "https://localhost:8080/"
        },
        "id": "i32G0CUQvauE",
        "outputId": "c3398cec-661d-46a5-b9db-0a0ad168f64a"
      },
      "outputs": [
        {
          "name": "stdout",
          "output_type": "stream",
          "text": [
            "\n",
            "Torre inicial:\n",
            "Azul                 |             |\n",
            "Verde                |             |\n",
            "Amarillo             |             |\n",
            "Rojo                 |             |\n",
            "____________   ____________   ____________\n",
            "     1              2              3\n",
            "\n",
            "Lleva la ficha Azul (posición 1) hasta la posición 2\n",
            "Lleva la ficha Verde (posición 1) hasta la posición 3\n",
            "Lleva la ficha Azul (posición 2) hasta la posición 3\n",
            "Lleva la ficha Amarillo (posición 1) hasta la posición 2\n",
            "Lleva la ficha Azul (posición 3) hasta la posición 1\n",
            "Lleva la ficha Verde (posición 3) hasta la posición 2\n",
            "Lleva la ficha Azul (posición 1) hasta la posición 2\n",
            "Lleva la ficha Rojo (posición 1) hasta la posición 3\n",
            "Lleva la ficha Azul (posición 2) hasta la posición 3\n",
            "Lleva la ficha Verde (posición 2) hasta la posición 1\n",
            "Lleva la ficha Azul (posición 3) hasta la posición 1\n",
            "Lleva la ficha Amarillo (posición 2) hasta la posición 3\n",
            "Lleva la ficha Azul (posición 1) hasta la posición 2\n",
            "Lleva la ficha Verde (posición 1) hasta la posición 3\n",
            "Lleva la ficha Azul (posición 2) hasta la posición 3\n",
            "\n",
            "Total de operaciones realizadas: 15\n"
          ]
        }
      ],
      "source": [
        "# Se ha cambiado la funcion para que funcione sepamos que fichas estamos moviendo desede una posicion a otra.\n",
        "# Usando una identificación similar a lo hecho en clase , se han usado colores, aunque se podrían usar tamaños pequeña, mediana, grande y muy grande.\n",
        "# Además, he añadido el numero total de moviminetos al final\n",
        "\n",
        "colores_predefinidos = ['Rojo', 'Amarillo', 'Verde', 'Azul', 'Morado', 'Naranja', 'Rosa', 'Cian']\n",
        "\n",
        "def Torres_Hanoi(N, desde, hasta, fichas=None, posiciones=None, contador=None, es_llamada_inicial=True):\n",
        "\n",
        "    if fichas is None:\n",
        "        fichas = colores_predefinidos[:N][::-1] if N <= 8 else [f\"Disco {i}\" for i in range(N, 0, -1)]\n",
        "        posiciones = {ficha: 1 for ficha in fichas}\n",
        "        contador = [0]  # Usamos lista para pasarlo por referencia\n",
        "    \n",
        "    if N == 1:\n",
        "        contador[0] += 1\n",
        "        ficha = fichas[-1]\n",
        "        print(f\"Lleva la ficha {ficha} (posición {posiciones[ficha]}) hasta la posición {hasta}\")\n",
        "        posiciones[ficha] = hasta\n",
        "    else:\n",
        "        Torres_Hanoi(N-1, desde, 6-desde-hasta, fichas[:-1], posiciones, contador, False)\n",
        "        \n",
        "        contador[0] += 1\n",
        "        ficha = fichas[N-1]\n",
        "        print(f\"Lleva la ficha {ficha} (posición {posiciones[ficha]}) hasta la posición {hasta}\")\n",
        "        posiciones[ficha] = hasta\n",
        "        \n",
        "        Torres_Hanoi(N-1, 6-desde-hasta, hasta, fichas[:-1], posiciones, contador, False)\n",
        "    \n",
        "    # Solo mostramos el total en la llamada inicial\n",
        "    if es_llamada_inicial:\n",
        "        print(f\"\\nTotal de operaciones realizadas: {contador[0]}\")\n",
        "\n",
        "def mostrar_torre_inicial(N):\n",
        "    fichas = colores_predefinidos[:N][::-1] if N <= 8 else [f\"Disco {i}\" for i in range(N, 0, -1)]\n",
        "    \n",
        "    print(\"\\nTorre inicial:\")\n",
        "    for ficha in fichas:\n",
        "        print(f\"{ficha.ljust(10)}           |             |\")\n",
        "    print(\"____________   ____________   ____________\")\n",
        "    print(\"     1              2              3\\n\")\n",
        "\n",
        "# Ejecución\n",
        "N = 4\n",
        "mostrar_torre_inicial(N)\n",
        "Torres_Hanoi(N, 1, 3)"
      ]
    },
    {
      "cell_type": "code",
      "execution_count": 41,
      "metadata": {
        "colab": {
          "base_uri": "https://localhost:8080/"
        },
        "id": "74qZZAekiNYR",
        "outputId": "acc17268-7f87-4de4-ae5a-4fc6ce09d385"
      },
      "outputs": [
        {
          "data": {
            "text/plain": [
              "8"
            ]
          },
          "execution_count": 41,
          "metadata": {},
          "output_type": "execute_result"
        }
      ],
      "source": [
        "#Sucesión_de_Fibonacci\n",
        "#https://es.wikipedia.org/wiki/Sucesi%C3%B3n_de_Fibonacci\n",
        "#Calculo del termino n-simo de la suscesión de Fibonacci\n",
        "def Fibonacci(N:int):\n",
        "  if N < 2:\n",
        "    return 1\n",
        "  else:\n",
        "    return Fibonacci(N-1)+Fibonacci(N-2)\n",
        "\n",
        "Fibonacci(5)"
      ]
    },
    {
      "cell_type": "markdown",
      "metadata": {
        "id": "RgT5XJsZ429L"
      },
      "source": [
        "##Devolución de cambio por técnica voraz"
      ]
    },
    {
      "cell_type": "code",
      "execution_count": 70,
      "metadata": {
        "colab": {
          "base_uri": "https://localhost:8080/"
        },
        "id": "uJtftBLU4-ap",
        "outputId": "b52f7a2c-771b-4c2e-81ab-c4c3ea01318d"
      },
      "outputs": [
        {
          "name": "stdout",
          "output_type": "stream",
          "text": [
            "Cambio para 7.77€: {2.0: 3, 1.0: 1, 0.5: 1, 0.2: 1, 0.05: 1, 0.02: 1}\n",
            "\n",
            "Cambio para 1.95$:): {1.0: 1, 0.5: 1, 0.25: 1, 0.1: 2}\n"
          ]
        }
      ],
      "source": [
        "# Se ha cambiado la funcion para que funcione con monedas de euro sin tener que pasar los valores de las monedas\n",
        "# Si se usaran otro tipo de monedas como los dólares, necesitaremos pasar la lista con el valor de las monedas\n",
        "\n",
        "def cambio_monedas(N, SM=[2, 1, 0.50, 0.20, 0.10, 0.05, 0.02, 0.01]):\n",
        "    \"\"\"\n",
        "    Calcula el cambio con el menor número de monedas, siendo predeterminado el uso de monedas de euro\n",
        "    \n",
        "    \"\"\"\n",
        "    # Convertimos a céntimos para evitar problemas con floats\n",
        "    total_centimos = int(round(N * 100))\n",
        "    monedas_centimos = [int(m*100) for m in SM]\n",
        "    \n",
        "    solucion = {}   # Cambio a diccionario para identificar el numero de monedas con su valor, en vez de con el orden en una lista\n",
        "    restante = total_centimos\n",
        "    \n",
        "    for moneda in sorted(monedas_centimos, reverse=True): # Cambio a sorted por si las monedas no están indroducidas en orden\n",
        "\n",
        "        if restante <= 0:\n",
        "            break\n",
        "        \n",
        "        num_monedas = restante // moneda\n",
        "        if num_monedas > 0:\n",
        "            solucion[moneda/100] = num_monedas\n",
        "            restante -= num_monedas * moneda\n",
        "    \n",
        "    # Para evitar problemas en caso de que no se pueda devolver el cambio añadimos el mensaje de error. \n",
        "    # Ej: La moneda mas pequeña es 5cent y hay que devolver 0.93\n",
        "\n",
        "    if restante > 0:\n",
        "        print(f\"¡Atención! No se puede dar cambio exacto. Faltan {restante/100:.2f}\") \n",
        "    \n",
        "    return solucion\n",
        "\n",
        "# Ejemplos:\n",
        "print(\"Cambio para 7.77€:\", cambio_monedas(7.77))\n",
        "print(\"\\nCambio para 1.95$:):\", cambio_monedas(1.95, [1, 0.5,0.25, 0.10, 0.05, 0.1]))"
      ]
    },
    {
      "cell_type": "markdown",
      "metadata": {
        "id": "g8M9GTvy_Fa3"
      },
      "source": [
        "## N-Reinas por técnica de vueta atrás\n"
      ]
    },
    {
      "cell_type": "code",
      "execution_count": 61,
      "metadata": {
        "id": "FqOPyCmv_K65"
      },
      "outputs": [
        {
          "name": "stdout",
          "output_type": "stream",
          "text": [
            "Soluciones para 6 reinas:\n",
            "[2, 4, 6, 1, 3, 5]\n",
            "\n",
            " -  -  -  X  -  - \n",
            " X  -  -  -  -  - \n",
            " -  -  -  -  X  - \n",
            " -  X  -  -  -  - \n",
            " -  -  -  -  -  X \n",
            " -  -  X  -  -  - \n",
            "\n",
            "#########\n",
            "\n",
            "[3, 6, 2, 5, 1, 4]\n",
            "\n",
            " -  -  -  -  X  - \n",
            " -  -  X  -  -  - \n",
            " X  -  -  -  -  - \n",
            " -  -  -  -  -  X \n",
            " -  -  -  X  -  - \n",
            " -  X  -  -  -  - \n",
            "\n",
            "#########\n",
            "\n",
            "[4, 1, 5, 2, 6, 3]\n",
            "\n",
            " -  X  -  -  -  - \n",
            " -  -  -  X  -  - \n",
            " -  -  -  -  -  X \n",
            " X  -  -  -  -  - \n",
            " -  -  X  -  -  - \n",
            " -  -  -  -  X  - \n",
            "\n",
            "#########\n",
            "\n",
            "[5, 3, 1, 6, 4, 2]\n",
            "\n",
            " -  -  X  -  -  - \n",
            " -  -  -  -  -  X \n",
            " -  X  -  -  -  - \n",
            " -  -  -  -  X  - \n",
            " X  -  -  -  -  - \n",
            " -  -  -  X  -  - \n",
            "\n",
            "#########\n",
            "\n"
          ]
        }
      ],
      "source": [
        "def escribe(S):\n",
        "  n = len(S)\n",
        "  for x in range(n):\n",
        "    print(\"\")\n",
        "    for i in range(n):\n",
        "      if S[i] == x+1:\n",
        "        print(\" X \" , end=\"\")\n",
        "      else:\n",
        "        print(\" - \", end=\"\")\n",
        "\n",
        "\n",
        "def es_prometedora(SOLUCION,etapa):\n",
        "  #print(SOLUCION)\n",
        "  #Si la solución tiene dos valores iguales no es valida => Dos reinas en la misma fila\n",
        "  for i in range(etapa+1):\n",
        "    #print(\"El valor \" + str(SOLUCION[i]) + \" está \" +  str(SOLUCION.count(SOLUCION[i])) + \" veces\")\n",
        "    if SOLUCION.count(SOLUCION[i]) > 1:\n",
        "      return False\n",
        "\n",
        "    #Verifica las diagonales\n",
        "    for j in range(i+1, etapa +1 ):\n",
        "      #print(\"Comprobando diagonal de \" + str(i) + \" y \" + str(j))\n",
        "      if abs(i-j) == abs(SOLUCION[i]-SOLUCION[j]) : return False\n",
        "  return True\n",
        "\n",
        "\n",
        "\n",
        "def reinas(N, solucion=None, etapa=0, mostrar=True):\n",
        "    if solucion is None:\n",
        "        solucion = [0]*N\n",
        "    \n",
        "    for i in range(1, N+1):\n",
        "        solucion[etapa] = i\n",
        "        \n",
        "        if es_prometedora(solucion, etapa):\n",
        "            if etapa == N-1:\n",
        "                if mostrar:\n",
        "                    print(solucion)\n",
        "                    escribe(solucion)\n",
        "                    print(\"\\n\\n#########\\n\")\n",
        "            else:\n",
        "                reinas(N, solucion, etapa+1, mostrar)\n",
        "        \n",
        "        solucion[etapa] = 0\n",
        "\n",
        "# Ejemplo de uso:\n",
        "N = 6\n",
        "print(f\"Soluciones para {N} reinas:\")\n",
        "reinas(N)"
      ]
    },
    {
      "cell_type": "markdown",
      "metadata": {
        "id": "p1VZhNzjUfiy"
      },
      "source": [
        "## Viaje por el rio. Programación dinámica"
      ]
    },
    {
      "cell_type": "code",
      "execution_count": 8,
      "metadata": {
        "colab": {
          "base_uri": "https://localhost:8080/",
          "height": 351
        },
        "id": "qoqU1XciUdRn",
        "outputId": "541c88e8-e686-4c32-c7e6-812759702496"
      },
      "outputs": [
        {
          "name": "stdout",
          "output_type": "stream",
          "text": [
            "\n",
            "PRECIOS:\n",
            "['   0', '   5', '   4', '   3', '   8', '   8', '  11']\n",
            "[' ---', '   0', ' 999', '   2', '   3', '   8', '   7']\n",
            "[' ---', ' ---', '   0', '   1', '   6', '   4', '   7']\n",
            "[' ---', ' ---', ' ---', '   0', '   5', '   6', '   9']\n",
            "[' ---', ' ---', ' ---', ' ---', '   0', ' 999', '   4']\n",
            "[' ---', ' ---', ' ---', ' ---', ' ---', '   0', '   3']\n",
            "[' ---', ' ---', ' ---', ' ---', ' ---', ' ---', ' ---']\n",
            "\n",
            "RUTA:\n",
            "['   0', '   0', '   0', '   0', '   1', '   2', '   5']\n",
            "[' ---', '   1', '   1', '   1', '   1', '   3', '   4']\n",
            "[' ---', ' ---', '   2', '   2', '   3', '   2', '   5']\n",
            "[' ---', ' ---', ' ---', '   3', '   3', '   3', '   3']\n",
            "[' ---', ' ---', ' ---', ' ---', '   4', '   4', '   4']\n",
            "[' ---', ' ---', ' ---', ' ---', ' ---', '   5', '   5']\n",
            "[' ---', ' ---', ' ---', ' ---', ' ---', ' ---', ' ---']\n",
            "\n",
            "La ruta más económica es: 0,2,5,6 y su precio es: 11\n"
          ]
        }
      ],
      "source": [
        "TARIFAS = [\n",
        "[0,5,4,3,999,999,999],\n",
        "[999,0,999,2,3,999,11],\n",
        "[999,999, 0,1,999,4,10],\n",
        "[999,999,999, 0,5,6,9],\n",
        "[999,999, 999,999,0,999,4],\n",
        "[999,999, 999,999,999,0,3],\n",
        "[999,999,999,999,999,999,0]\n",
        "]\n",
        "\n",
        "\n",
        "\n",
        "################################################################\n",
        "def Precios(TARIFAS):\n",
        "################################################################\n",
        "\n",
        "  # Para evitar errores con las tarifas se indica que la matriz TARIFAS tiene que existir y ser cuadrada\n",
        "  if not TARIFAS or len(TARIFAS) != len(TARIFAS[0]):\n",
        "      raise ValueError(\"La matriz de tarifas debe ser cuadrada\")\n",
        "  \n",
        "  #Total de Nodos\n",
        "  N = len(TARIFAS[0])\n",
        "\n",
        "  #Inicialización de la tabla de precios\n",
        "  PRECIOS = [ [9999]*N for i in [9999]*N]\n",
        "  RUTA = [ [\"\"]*N for i in [\"\"]*N]\n",
        "\n",
        "  for i in range(0,N-1):\n",
        "    RUTA[i][i] = i             #Para ir de i a i se \"pasa por i\"\n",
        "    PRECIOS[i][i] = 0          #Para ir de i a i se se paga 0\n",
        "    for j in range(i+1, N):\n",
        "      MIN = TARIFAS[i][j]\n",
        "      RUTA[i][j] = i\n",
        "\n",
        "      for k in range(i, j):\n",
        "        if PRECIOS[i][k] + TARIFAS[k][j] < MIN:\n",
        "            MIN = min(MIN, PRECIOS[i][k] + TARIFAS[k][j] )\n",
        "            RUTA[i][j] = k          #Anota que para ir de i a j hay que pasar por k\n",
        "      PRECIOS[i][j] = MIN\n",
        "\n",
        "  return PRECIOS,RUTA\n",
        "################################################################\n",
        "\n",
        "\n",
        "PRECIOS,RUTA = Precios(TARIFAS)\n",
        "\n",
        "#Cambio para mostrar las matrices mejor visualmente.\n",
        "\n",
        "print(\"\\nPRECIOS:\")\n",
        "for fila in PRECIOS:\n",
        "    print([f\"{x:4}\" if x != 9999 else \" ---\" for x in fila])\n",
        "\n",
        "print(\"\\nRUTA:\")\n",
        "for fila in RUTA:\n",
        "    print([f\"{x:4}\" if x != \"\" else \" ---\" for x in fila])\n",
        "\n",
        "#Cambio para mostrar todos los puntos de la ruta, de principio a fin, y su precio.\n",
        "def calcular_ruta(RUTA, PRECIOS, desde, hasta):\n",
        "    if desde == hasta:\n",
        "        print (\"\\nYa estas en \" + str(desde))\n",
        "        return None, 0\n",
        "    \n",
        "    parada = RUTA[desde][hasta]\n",
        "    if parada == desde:  # Ruta directa\n",
        "        return f\"{desde},{hasta}\", TARIFAS[desde][hasta]\n",
        "    \n",
        "    ruta_parcial, _ = calcular_ruta(RUTA, PRECIOS, desde, parada)\n",
        "    return f\"{ruta_parcial},{hasta}\", PRECIOS[desde][hasta]\n",
        "\n",
        "ruta, precio = calcular_ruta(RUTA, PRECIOS, 0, 6)\n",
        "print(f\"\\nLa ruta más económica es: {ruta} y su precio es: {precio}\")"
      ]
    }
  ],
  "metadata": {
    "colab": {
      "provenance": []
    },
    "kernelspec": {
      "display_name": "Python 3",
      "name": "python3"
    },
    "language_info": {
      "codemirror_mode": {
        "name": "ipython",
        "version": 3
      },
      "file_extension": ".py",
      "mimetype": "text/x-python",
      "name": "python",
      "nbconvert_exporter": "python",
      "pygments_lexer": "ipython3",
      "version": "3.13.2"
    }
  },
  "nbformat": 4,
  "nbformat_minor": 0
}
